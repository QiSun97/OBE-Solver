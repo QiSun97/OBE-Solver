{
 "cells": [
  {
   "cell_type": "code",
   "execution_count": 1,
   "id": "fbd0db31",
   "metadata": {},
   "outputs": [],
   "source": [
    "import sys\n",
    "sys.path.append(\"..\")\n",
    "\n",
    "import pickle\n",
    "import time\n",
    "import pprint\n",
    "import numpy as np\n",
    "from tqdm import tqdm\n",
    "import multiprocessing\n",
    "from sympy import Symbol, sin, cos, tan, nsimplify\n",
    "import matplotlib.pyplot as plt\n",
    "from utils.plot_utils import set_fontsize\n",
    "# from optical_bloch.utils.general import flatten\n",
    "# from optical_bloch import Hamiltonian, Dissipator, BlochEquations\n",
    "from optical_bloch_test.utils.general import flatten\n",
    "from optical_bloch_test import Hamiltonian, Dissipator, BlochEquations\n",
    "from multi_helper_funcs import multi_solve_ode, multi_solve_ode_integrate_excited\n",
    "\n",
    "from julia import Main\n",
    "from sympy import MutableDenseMatrix, conjugate, Function, Symbol"
   ]
  },
  {
   "cell_type": "code",
   "execution_count": 2,
   "id": "d053d2da",
   "metadata": {},
   "outputs": [],
   "source": [
    "hbar=1.054*1E-34; #[Js]\n",
    "k_b=1.381*1E-23; #[J/K]\n",
    "c=299792000; #[m/s]\n",
    "eps_0=8.854*1E-12; #[F/m]\n",
    "a0=5.29*1E-11; #[m]\n",
    "q_e=1.602*1E-19; #[C]\n",
    "Bohr_mag=1.39962449/1000*2*np.pi; #[GHz/G]\n",
    "\n",
    "nground = 5\n",
    "nexcite = 3\n",
    "ntotal = 8"
   ]
  },
  {
   "cell_type": "code",
   "execution_count": 3,
   "id": "748a14d9",
   "metadata": {},
   "outputs": [],
   "source": [
    "rabi_matrix = np.zeros([ntotal,ntotal,3])\n",
    "rabi_matrix[:,:,0] = np.genfromtxt('rabimatrix53toy1.csv',delimiter=',')\n",
    "rabi_matrix[:,:,1] = np.genfromtxt('rabimatrix53toy2.csv',delimiter=',')\n",
    "rabi_matrix[:,:,2] = np.genfromtxt('rabimatrix53toy3.csv',delimiter=',')"
   ]
  },
  {
   "cell_type": "code",
   "execution_count": 4,
   "id": "22b9dc38",
   "metadata": {},
   "outputs": [],
   "source": [
    "E0 = Symbol(u'E0', real = True)\n",
    "Ee = Symbol(u'Ee', real = True)\n",
    "\n",
    "ω = Symbol(u'ω', real = True)\n",
    "Ω = Symbol(u'Ω', real = True)\n",
    "Δ = Symbol(u'Δ', real = True)\n",
    "g = Symbol(u'g', real = True)\n",
    "\n",
    "θ = Symbol(u'θ', real = True)\n",
    "B = Symbol(u'B', real = True)"
   ]
  },
  {
   "cell_type": "code",
   "execution_count": 5,
   "id": "83395d69",
   "metadata": {},
   "outputs": [],
   "source": [
    "ham = Hamiltonian(ntotal)\n",
    "ham.addEnergies([E0-2*g*B,E0-g*B,E0,E0+g*B, E0+2*g*B,\n",
    "                 Ee,Ee,Ee])"
   ]
  },
  {
   "cell_type": "code",
   "execution_count": 6,
   "id": "ad4afd7f",
   "metadata": {},
   "outputs": [],
   "source": [
    "for i in range(nground):\n",
    "    for j in range(nground, ntotal):\n",
    "        if rabi_matrix[i, j, 0] != 0:\n",
    "            prefactor = (-1)/np.sqrt(2)*sin(θ)\n",
    "            ham.addCoupling(i, j, prefactor*Ω*rabi_matrix[i,j,0], ω)\n",
    "        if rabi_matrix[i, j, 1] != 0:\n",
    "            prefactor = (1)*cos(θ)\n",
    "            ham.addCoupling(i, j, prefactor*Ω*rabi_matrix[i,j,1], ω)\n",
    "        if rabi_matrix[i, j, 2] != 0:\n",
    "            prefactor = (1)/np.sqrt(2)*sin(θ)\n",
    "            ham.addCoupling(i, j, prefactor*Ω*rabi_matrix[i,j,2], ω)"
   ]
  },
  {
   "cell_type": "code",
   "execution_count": 7,
   "id": "7314a26f",
   "metadata": {},
   "outputs": [],
   "source": [
    "ham.eqnTransform()\n",
    "ham.defineZero(Ee)\n",
    "ham.defineEnergyDetuning(E0, Ee, Δ, ω)"
   ]
  },
  {
   "cell_type": "code",
   "execution_count": 8,
   "id": "7a1ca733",
   "metadata": {},
   "outputs": [
    {
     "data": {
      "text/latex": [
       "$\\displaystyle \\left[\\begin{matrix}- 2 B g - 1.0 Δ & 0 & 0 & 0 & 0 & - 0.204124145231932 Ω \\sin{\\left(θ \\right)} & 0 & 0\\\\0 & - B g - 1.0 Δ & 0 & 0 & 0 & 0.204124145231932 Ω \\cos{\\left(θ \\right)} & - 0.144337567297406 Ω \\sin{\\left(θ \\right)} & 0\\\\0 & 0 & - 1.0 Δ & 0 & 0 & 0.0833333333333334 Ω \\sin{\\left(θ \\right)} & 0.235702260395516 Ω \\cos{\\left(θ \\right)} & - 0.0833333333333334 Ω \\sin{\\left(θ \\right)}\\\\0 & 0 & 0 & B g - 1.0 Δ & 0 & 0 & 0.144337567297406 Ω \\sin{\\left(θ \\right)} & 0.204124145231932 Ω \\cos{\\left(θ \\right)}\\\\0 & 0 & 0 & 0 & 2 B g - 1.0 Δ & 0 & 0 & 0.204124145231932 Ω \\sin{\\left(θ \\right)}\\\\- 0.204124145231932 Ω \\sin{\\left(θ \\right)} & 0.204124145231932 Ω \\cos{\\left(θ \\right)} & 0.0833333333333334 Ω \\sin{\\left(θ \\right)} & 0 & 0 & 0 & 0 & 0\\\\0 & - 0.144337567297406 Ω \\sin{\\left(θ \\right)} & 0.235702260395516 Ω \\cos{\\left(θ \\right)} & 0.144337567297406 Ω \\sin{\\left(θ \\right)} & 0 & 0 & 0 & 0\\\\0 & 0 & - 0.0833333333333334 Ω \\sin{\\left(θ \\right)} & 0.204124145231932 Ω \\cos{\\left(θ \\right)} & 0.204124145231932 Ω \\sin{\\left(θ \\right)} & 0 & 0 & 0\\end{matrix}\\right]$"
      ],
      "text/plain": [
       "Matrix([\n",
       "[             -2*B*g - 1.0*Δ,                           0,                            0,                          0,                          0, -0.204124145231932*Ω*sin(θ),                           0,                            0],\n",
       "[                          0,                -B*g - 1.0*Δ,                            0,                          0,                          0,  0.204124145231932*Ω*cos(θ), -0.144337567297406*Ω*sin(θ),                            0],\n",
       "[                          0,                           0,                       -1.0*Δ,                          0,                          0, 0.0833333333333334*Ω*sin(θ),  0.235702260395516*Ω*cos(θ), -0.0833333333333334*Ω*sin(θ)],\n",
       "[                          0,                           0,                            0,                B*g - 1.0*Δ,                          0,                           0,  0.144337567297406*Ω*sin(θ),   0.204124145231932*Ω*cos(θ)],\n",
       "[                          0,                           0,                            0,                          0,              2*B*g - 1.0*Δ,                           0,                           0,   0.204124145231932*Ω*sin(θ)],\n",
       "[-0.204124145231932*Ω*sin(θ),  0.204124145231932*Ω*cos(θ),  0.0833333333333334*Ω*sin(θ),                          0,                          0,                           0,                           0,                            0],\n",
       "[                          0, -0.144337567297406*Ω*sin(θ),   0.235702260395516*Ω*cos(θ), 0.144337567297406*Ω*sin(θ),                          0,                           0,                           0,                            0],\n",
       "[                          0,                           0, -0.0833333333333334*Ω*sin(θ), 0.204124145231932*Ω*cos(θ), 0.204124145231932*Ω*sin(θ),                           0,                           0,                            0]])"
      ]
     },
     "execution_count": 8,
     "metadata": {},
     "output_type": "execute_result"
    }
   ],
   "source": [
    "ham.transformed"
   ]
  },
  {
   "cell_type": "code",
   "execution_count": 9,
   "id": "8c53f126",
   "metadata": {},
   "outputs": [
    {
     "data": {
      "text/latex": [
       "$\\displaystyle \\left[\\begin{matrix}- 2 B g + E_{0} & 0 & 0 & 0 & 0 & - 0.204124145231932 Ω e^{1.0 i t ω} \\sin{\\left(θ \\right)} & 0 & 0\\\\0 & - B g + E_{0} & 0 & 0 & 0 & 0.204124145231932 Ω e^{1.0 i t ω} \\cos{\\left(θ \\right)} & - 0.144337567297406 Ω e^{1.0 i t ω} \\sin{\\left(θ \\right)} & 0\\\\0 & 0 & E_{0} & 0 & 0 & 0.0833333333333334 Ω e^{1.0 i t ω} \\sin{\\left(θ \\right)} & 0.235702260395516 Ω e^{1.0 i t ω} \\cos{\\left(θ \\right)} & - 0.0833333333333334 Ω e^{1.0 i t ω} \\sin{\\left(θ \\right)}\\\\0 & 0 & 0 & B g + E_{0} & 0 & 0 & 0.144337567297406 Ω e^{1.0 i t ω} \\sin{\\left(θ \\right)} & 0.204124145231932 Ω e^{1.0 i t ω} \\cos{\\left(θ \\right)}\\\\0 & 0 & 0 & 0 & 2 B g + E_{0} & 0 & 0 & 0.204124145231932 Ω e^{1.0 i t ω} \\sin{\\left(θ \\right)}\\\\- 0.204124145231932 Ω e^{- 1.0 i t ω} \\sin{\\left(θ \\right)} & 0.204124145231932 Ω e^{- 1.0 i t ω} \\cos{\\left(θ \\right)} & 0.0833333333333334 Ω e^{- 1.0 i t ω} \\sin{\\left(θ \\right)} & 0 & 0 & Ee & 0 & 0\\\\0 & - 0.144337567297406 Ω e^{- 1.0 i t ω} \\sin{\\left(θ \\right)} & 0.235702260395516 Ω e^{- 1.0 i t ω} \\cos{\\left(θ \\right)} & 0.144337567297406 Ω e^{- 1.0 i t ω} \\sin{\\left(θ \\right)} & 0 & 0 & Ee & 0\\\\0 & 0 & - 0.0833333333333334 Ω e^{- 1.0 i t ω} \\sin{\\left(θ \\right)} & 0.204124145231932 Ω e^{- 1.0 i t ω} \\cos{\\left(θ \\right)} & 0.204124145231932 Ω e^{- 1.0 i t ω} \\sin{\\left(θ \\right)} & 0 & 0 & Ee\\end{matrix}\\right]$"
      ],
      "text/plain": [
       "Matrix([\n",
       "[                                -2*B*g + E0,                                           0,                                            0,                                          0,                                          0, -0.204124145231932*Ω*exp(1.0*I*t*ω)*sin(θ),                                          0,                                           0],\n",
       "[                                          0,                                   -B*g + E0,                                            0,                                          0,                                          0,  0.204124145231932*Ω*exp(1.0*I*t*ω)*cos(θ), -0.144337567297406*Ω*exp(1.0*I*t*ω)*sin(θ),                                           0],\n",
       "[                                          0,                                           0,                                           E0,                                          0,                                          0, 0.0833333333333334*Ω*exp(1.0*I*t*ω)*sin(θ),  0.235702260395516*Ω*exp(1.0*I*t*ω)*cos(θ), -0.0833333333333334*Ω*exp(1.0*I*t*ω)*sin(θ)],\n",
       "[                                          0,                                           0,                                            0,                                   B*g + E0,                                          0,                                          0,  0.144337567297406*Ω*exp(1.0*I*t*ω)*sin(θ),   0.204124145231932*Ω*exp(1.0*I*t*ω)*cos(θ)],\n",
       "[                                          0,                                           0,                                            0,                                          0,                                 2*B*g + E0,                                          0,                                          0,   0.204124145231932*Ω*exp(1.0*I*t*ω)*sin(θ)],\n",
       "[-0.204124145231932*Ω*exp(-1.0*I*t*ω)*sin(θ),  0.204124145231932*Ω*exp(-1.0*I*t*ω)*cos(θ),  0.0833333333333334*Ω*exp(-1.0*I*t*ω)*sin(θ),                                          0,                                          0,                                         Ee,                                          0,                                           0],\n",
       "[                                          0, -0.144337567297406*Ω*exp(-1.0*I*t*ω)*sin(θ),   0.235702260395516*Ω*exp(-1.0*I*t*ω)*cos(θ), 0.144337567297406*Ω*exp(-1.0*I*t*ω)*sin(θ),                                          0,                                          0,                                         Ee,                                           0],\n",
       "[                                          0,                                           0, -0.0833333333333334*Ω*exp(-1.0*I*t*ω)*sin(θ), 0.204124145231932*Ω*exp(-1.0*I*t*ω)*cos(θ), 0.204124145231932*Ω*exp(-1.0*I*t*ω)*sin(θ),                                          0,                                          0,                                          Ee]])"
      ]
     },
     "execution_count": 9,
     "metadata": {},
     "output_type": "execute_result"
    }
   ],
   "source": [
    "ham.hamiltonian"
   ]
  },
  {
   "cell_type": "code",
   "execution_count": 10,
   "id": "51c7d1e5",
   "metadata": {},
   "outputs": [],
   "source": [
    "transition_strengths=np.zeros([ntotal,ntotal]);\n",
    "for i in range(ntotal):\n",
    "    for f in range(ntotal):\n",
    "        for p in range(3):\n",
    "            transition_strengths[i,f]=transition_strengths[i,f]+rabi_matrix[i,f,p]**2"
   ]
  },
  {
   "cell_type": "code",
   "execution_count": 11,
   "id": "9e916ccd",
   "metadata": {},
   "outputs": [],
   "source": [
    "BR = np.zeros([ntotal, ntotal])\n",
    "for i in range(ntotal):\n",
    "    sums=0\n",
    "    for f in range(ntotal):\n",
    "        sums=sums+transition_strengths[i,f]\n",
    "        \n",
    "    for f in range(ntotal):\n",
    "        BR[i,f]=transition_strengths[i,f]/sums\n",
    "        \n",
    "for i in range(nground):\n",
    "    BR[i,:]=0"
   ]
  },
  {
   "cell_type": "code",
   "execution_count": 12,
   "id": "78b86ebd",
   "metadata": {},
   "outputs": [
    {
     "data": {
      "text/plain": [
       "array([[0.6, 0.3, 0.1, 0. , 0. , 0. , 0. , 0. ],\n",
       "       [0. , 0.3, 0.4, 0.3, 0. , 0. , 0. , 0. ],\n",
       "       [0. , 0. , 0.1, 0.3, 0.6, 0. , 0. , 0. ]])"
      ]
     },
     "execution_count": 12,
     "metadata": {},
     "output_type": "execute_result"
    }
   ],
   "source": [
    "BR[nground:,:]"
   ]
  },
  {
   "cell_type": "code",
   "execution_count": 13,
   "id": "a9a50900",
   "metadata": {},
   "outputs": [
    {
     "name": "stderr",
     "output_type": "stream",
     "text": [
      "100%|████████████████████████████████████████████████████████████████████████████████████| 3/3 [00:01<00:00,  2.16it/s]\n"
     ]
    }
   ],
   "source": [
    "Γ = Symbol(u'Γ', real = True)\n",
    "dis = Dissipator(ntotal)\n",
    "\n",
    "for exct in tqdm(range(nground, ntotal)):\n",
    "    for grnd in range(nground):\n",
    "        if BR[exct, grnd] != 0:\n",
    "            dis.addDecay(exct, grnd, Γ * BR[exct, grnd])"
   ]
  },
  {
   "cell_type": "code",
   "execution_count": 14,
   "id": "84661bc1",
   "metadata": {},
   "outputs": [
    {
     "data": {
      "text/latex": [
       "$\\displaystyle \\left[\\begin{matrix}0.6 Γ \\operatorname{ρ₅₅}{\\left(t \\right)} & 0 & 0 & 0 & 0 & - 0.5 Γ \\operatorname{ρ₀₅}{\\left(t \\right)} & - 0.5 Γ \\operatorname{ρ₀₆}{\\left(t \\right)} & - 0.5 Γ \\operatorname{ρ₀₇}{\\left(t \\right)}\\\\0 & 0.3 Γ \\left(\\operatorname{ρ₅₅}{\\left(t \\right)} + \\operatorname{ρ₆₆}{\\left(t \\right)}\\right) & 0 & 0 & 0 & - 0.5 Γ \\operatorname{ρ₁₅}{\\left(t \\right)} & - 0.5 Γ \\operatorname{ρ₁₆}{\\left(t \\right)} & - 0.5 Γ \\operatorname{ρ₁₇}{\\left(t \\right)}\\\\0 & 0 & Γ \\left(0.1 \\operatorname{ρ₅₅}{\\left(t \\right)} + 0.4 \\operatorname{ρ₆₆}{\\left(t \\right)} + 0.1 \\operatorname{ρ₇₇}{\\left(t \\right)}\\right) & 0 & 0 & - 0.5 Γ \\operatorname{ρ₂₅}{\\left(t \\right)} & - 0.5 Γ \\operatorname{ρ₂₆}{\\left(t \\right)} & - 0.5 Γ \\operatorname{ρ₂₇}{\\left(t \\right)}\\\\0 & 0 & 0 & 0.3 Γ \\left(\\operatorname{ρ₆₆}{\\left(t \\right)} + \\operatorname{ρ₇₇}{\\left(t \\right)}\\right) & 0 & - 0.5 Γ \\operatorname{ρ₃₅}{\\left(t \\right)} & - 0.5 Γ \\operatorname{ρ₃₆}{\\left(t \\right)} & - 0.5 Γ \\operatorname{ρ₃₇}{\\left(t \\right)}\\\\0 & 0 & 0 & 0 & 0.6 Γ \\operatorname{ρ₇₇}{\\left(t \\right)} & - 0.5 Γ \\operatorname{ρ₄₅}{\\left(t \\right)} & - 0.5 Γ \\operatorname{ρ₄₆}{\\left(t \\right)} & - 0.5 Γ \\operatorname{ρ₄₇}{\\left(t \\right)}\\\\- 0.5 Γ \\overline{\\operatorname{ρ₀₅}{\\left(t \\right)}} & - 0.5 Γ \\overline{\\operatorname{ρ₁₅}{\\left(t \\right)}} & - 0.5 Γ \\overline{\\operatorname{ρ₂₅}{\\left(t \\right)}} & - 0.5 Γ \\overline{\\operatorname{ρ₃₅}{\\left(t \\right)}} & - 0.5 Γ \\overline{\\operatorname{ρ₄₅}{\\left(t \\right)}} & - 1.0 Γ \\operatorname{ρ₅₅}{\\left(t \\right)} & - 1.0 Γ \\operatorname{ρ₅₆}{\\left(t \\right)} & - 1.0 Γ \\operatorname{ρ₅₇}{\\left(t \\right)}\\\\- 0.5 Γ \\overline{\\operatorname{ρ₀₆}{\\left(t \\right)}} & - 0.5 Γ \\overline{\\operatorname{ρ₁₆}{\\left(t \\right)}} & - 0.5 Γ \\overline{\\operatorname{ρ₂₆}{\\left(t \\right)}} & - 0.5 Γ \\overline{\\operatorname{ρ₃₆}{\\left(t \\right)}} & - 0.5 Γ \\overline{\\operatorname{ρ₄₆}{\\left(t \\right)}} & - 1.0 Γ \\overline{\\operatorname{ρ₅₆}{\\left(t \\right)}} & - 1.0 Γ \\operatorname{ρ₆₆}{\\left(t \\right)} & - 1.0 Γ \\operatorname{ρ₆₇}{\\left(t \\right)}\\\\- 0.5 Γ \\overline{\\operatorname{ρ₀₇}{\\left(t \\right)}} & - 0.5 Γ \\overline{\\operatorname{ρ₁₇}{\\left(t \\right)}} & - 0.5 Γ \\overline{\\operatorname{ρ₂₇}{\\left(t \\right)}} & - 0.5 Γ \\overline{\\operatorname{ρ₃₇}{\\left(t \\right)}} & - 0.5 Γ \\overline{\\operatorname{ρ₄₇}{\\left(t \\right)}} & - 1.0 Γ \\overline{\\operatorname{ρ₅₇}{\\left(t \\right)}} & - 1.0 Γ \\overline{\\operatorname{ρ₆₇}{\\left(t \\right)}} & - 1.0 Γ \\operatorname{ρ₇₇}{\\left(t \\right)}\\end{matrix}\\right]$"
      ],
      "text/plain": [
       "Matrix([\n",
       "[            0.6*Γ*ρ₅₅(t),                        0,                                        0,                        0,                        0,            -0.5*Γ*ρ₀₅(t),            -0.5*Γ*ρ₀₆(t), -0.5*Γ*ρ₀₇(t)],\n",
       "[                       0,  0.3*Γ*(ρ₅₅(t) + ρ₆₆(t)),                                        0,                        0,                        0,            -0.5*Γ*ρ₁₅(t),            -0.5*Γ*ρ₁₆(t), -0.5*Γ*ρ₁₇(t)],\n",
       "[                       0,                        0, Γ*(0.1*ρ₅₅(t) + 0.4*ρ₆₆(t) + 0.1*ρ₇₇(t)),                        0,                        0,            -0.5*Γ*ρ₂₅(t),            -0.5*Γ*ρ₂₆(t), -0.5*Γ*ρ₂₇(t)],\n",
       "[                       0,                        0,                                        0,  0.3*Γ*(ρ₆₆(t) + ρ₇₇(t)),                        0,            -0.5*Γ*ρ₃₅(t),            -0.5*Γ*ρ₃₆(t), -0.5*Γ*ρ₃₇(t)],\n",
       "[                       0,                        0,                                        0,                        0,             0.6*Γ*ρ₇₇(t),            -0.5*Γ*ρ₄₅(t),            -0.5*Γ*ρ₄₆(t), -0.5*Γ*ρ₄₇(t)],\n",
       "[-0.5*Γ*conjugate(ρ₀₅(t)), -0.5*Γ*conjugate(ρ₁₅(t)),                 -0.5*Γ*conjugate(ρ₂₅(t)), -0.5*Γ*conjugate(ρ₃₅(t)), -0.5*Γ*conjugate(ρ₄₅(t)),            -1.0*Γ*ρ₅₅(t),            -1.0*Γ*ρ₅₆(t), -1.0*Γ*ρ₅₇(t)],\n",
       "[-0.5*Γ*conjugate(ρ₀₆(t)), -0.5*Γ*conjugate(ρ₁₆(t)),                 -0.5*Γ*conjugate(ρ₂₆(t)), -0.5*Γ*conjugate(ρ₃₆(t)), -0.5*Γ*conjugate(ρ₄₆(t)), -1.0*Γ*conjugate(ρ₅₆(t)),            -1.0*Γ*ρ₆₆(t), -1.0*Γ*ρ₆₇(t)],\n",
       "[-0.5*Γ*conjugate(ρ₀₇(t)), -0.5*Γ*conjugate(ρ₁₇(t)),                 -0.5*Γ*conjugate(ρ₂₇(t)), -0.5*Γ*conjugate(ρ₃₇(t)), -0.5*Γ*conjugate(ρ₄₇(t)), -1.0*Γ*conjugate(ρ₅₇(t)), -1.0*Γ*conjugate(ρ₆₇(t)), -1.0*Γ*ρ₇₇(t)]])"
      ]
     },
     "execution_count": 14,
     "metadata": {},
     "output_type": "execute_result"
    }
   ],
   "source": [
    "dis.dissipator"
   ]
  },
  {
   "cell_type": "code",
   "execution_count": 15,
   "id": "7f021da9",
   "metadata": {},
   "outputs": [
    {
     "name": "stdout",
     "output_type": "stream",
     "text": [
      "start generateEquations\n",
      "Wall time: 488 ms\n"
     ]
    }
   ],
   "source": [
    "%%time\n",
    "bloch = BlochEquations(ntotal, dis.density_matrix, ham.transformed, dis.dissipator)"
   ]
  },
  {
   "cell_type": "code",
   "execution_count": 16,
   "id": "00c6adf1",
   "metadata": {},
   "outputs": [],
   "source": [
    "y0 = np.zeros([ntotal, ntotal], dtype = complex)\n",
    "for i in range(nground):\n",
    "    y0[i,i] = 1/nground\n",
    "y0 = y0.flatten()"
   ]
  },
  {
   "cell_type": "code",
   "execution_count": 17,
   "id": "a2aa7608",
   "metadata": {},
   "outputs": [
    {
     "data": {
      "text/plain": [
       "array([ 1,  2,  3,  4,  5,  6,  7,  8,  9, 10, 11, 12], dtype=int64)"
      ]
     },
     "execution_count": 17,
     "metadata": {},
     "output_type": "execute_result"
    }
   ],
   "source": [
    "nprocs = 12 # number of processes to use for EnsembleDistributed \n",
    "Main.eval(f\"\"\"\n",
    "using BenchmarkTools\n",
    "using Distributed\n",
    "\"\"\")\n",
    "\n",
    "if Main.eval(\"nprocs()\") < nprocs:\n",
    "    Main.eval(f\"addprocs({nprocs}-nprocs())\")\n",
    "\n",
    "if Main.eval(\"nprocs()\") > nprocs:\n",
    "    addprocs({nprocs})\n",
    "    procs = Main.eval(\"procs()\")\n",
    "    procs = procs[nprocs:]\n",
    "    Main.eval(f\"rmprocs({procs})\")\n",
    "\n",
    "Main.eval(\"\"\"\n",
    "@everywhere begin\n",
    "    using ModelingToolkit\n",
    "    using LinearAlgebra\n",
    "    using Trapz\n",
    "    using DifferentialEquations\n",
    "    using ModelingToolkit\n",
    "end\n",
    "\"\"\")\n",
    "\n",
    "    \n",
    "Main.eval(\"procs()\")"
   ]
  },
  {
   "cell_type": "code",
   "execution_count": 18,
   "id": "f53b064f",
   "metadata": {},
   "outputs": [],
   "source": [
    "from sympy import MutableDenseMatrix, conjugate, Function, Symbol\n",
    "\n",
    "t = Symbol('t', real = True)\n",
    "\n",
    "hamiltonian_symbols = ham.transformed.free_symbols\n",
    "dissipator_symbols = dis.dissipator.free_symbols\n",
    "dissipator_symbols = set([d for d in dissipator_symbols if str(d)[0] not in ['ρ', 't']])\n",
    "\n",
    "for s in list(hamiltonian_symbols) + list(dissipator_symbols):\n",
    "    Main.eval(f\"\"\"\n",
    "                @everywhere @parameters {str(s)}\n",
    "                tmp = 0\n",
    "            \"\"\");\n",
    "\n",
    "\n",
    "lx, ly = ham.transformed.shape\n",
    "Main.eval(f\"\"\"\n",
    "            @everywhere begin\n",
    "            H = zeros(Num, {lx}, {ly})\n",
    "            L = zeros(Num, {lx}, {ly})\n",
    "            @variables t ρ[1:{lx},1:{ly}](t)\n",
    "            @parameters icomplex\n",
    "            D = Differential(t)\n",
    "            tmp = 0\n",
    "            end\n",
    "            \"\"\");\n",
    "\n",
    "# the code below is to transform the symbolic version of Sympy into a form usable with Julia\n",
    "diss = MutableDenseMatrix(dis.dissipator.copy())\n",
    "\n",
    "for i in range(lx):\n",
    "    for j in range(i,ly):\n",
    "        tmp = Function(u'ρ{0}{1}'.format(chr(0x2080+i), \n",
    "                                         chr(0x2080+j)))\n",
    "        tmp1 = Function(u'ρ[{0},{1}]'.format(j+1, i+1))\n",
    "        diss = diss.subs(conjugate(tmp(t)), tmp1(t))\n",
    "            \n",
    "for i in range(lx):\n",
    "    for j in range(i,ly):\n",
    "        tmp = Function(u'ρ{0}{1}'.format(chr(0x2080+i), \n",
    "                                         chr(0x2080+j)))\n",
    "        tmp1 = Function(u'ρ[{0},{1}]'.format(i+1, j+1))\n",
    "        diss = diss.subs(tmp(t), tmp1(t))\n",
    "\n",
    "\n",
    "# Creating the Hamiltonian matrix and Dissipator matrix in Julia\n",
    "for idx in range(1,lx+1):\n",
    "    for idy in range(1,ly+1):\n",
    "        hval = str(ham.transformed[idx-1,idy-1])\n",
    "        dval = str(diss[idx-1, idy-1])\n",
    "        dval = dval.replace('(t)', '')\n",
    "        Main.eval(f\"\"\"\n",
    "                @everywhere begin\n",
    "                H[{idx},{idy}] = {hval}\n",
    "                L[{idx},{idy}] = {dval}\n",
    "                tmp = 0\n",
    "                end\n",
    "                \"\"\");\n",
    "        \n",
    "# ham_pars = ham.transformed.free_symbols"
   ]
  },
  {
   "cell_type": "code",
   "execution_count": 19,
   "id": "40025771",
   "metadata": {},
   "outputs": [],
   "source": [
    "# Creating the system of equations\n",
    "ham_string = ','.join([str(h) for h in hamiltonian_symbols])\n",
    "diss_string = ','.join([str(d) for d in dissipator_symbols])\n",
    "\n",
    "Main.eval(f\"\"\"\n",
    "@everywhere begin\n",
    "    eq = -icomplex*Symbolics.scalarize(H*ρ-ρ*H) + L\n",
    "    eqns = [D(ρ[idx,idy]) ~ eq[idx,idy] for idx in 1:{lx} for idy in 1:{ly}];\n",
    "    bloch = ODESystem(eqns)\n",
    "    tmp = 0\n",
    "end\n",
    "\"\"\");"
   ]
  },
  {
   "cell_type": "code",
   "execution_count": 20,
   "id": "e3ee8cc6",
   "metadata": {},
   "outputs": [],
   "source": [
    "# initial populations\n",
    "y0 = np.zeros([ham.levels, ham.levels], dtype = complex)\n",
    "for _ in range(ntotal):\n",
    "    y0[_,_] = 1/ntotal\n",
    "Main.ρ_ini = y0\n",
    "Main.eval(\"@everywhere ρ_ini = $ρ_ini\")"
   ]
  },
  {
   "cell_type": "code",
   "execution_count": 21,
   "id": "923caf93",
   "metadata": {},
   "outputs": [
    {
     "name": "stdout",
     "output_type": "stream",
     "text": [
      "{Ω, θ, g, Δ, B} {Γ}\n"
     ]
    }
   ],
   "source": [
    "print(hamiltonian_symbols,dissipator_symbols)"
   ]
  },
  {
   "cell_type": "code",
   "execution_count": 22,
   "id": "77cbb128",
   "metadata": {},
   "outputs": [],
   "source": [
    "Main.eval(\"\"\"\n",
    "    @everywhere begin\n",
    "    Γ_val = 1\n",
    "    Δgroup = 0E-3\n",
    "    Ω_val = 3*Γ_val\n",
    "    u0 = [ρ[idx,idy] => ρ_ini[idx,idy] for idx in 1:size(ρ_ini)[1] for idy in 1:size(ρ_ini)[1]]\n",
    "    tmp =0;\n",
    "end\n",
    "\"\"\");"
   ]
  },
  {
   "cell_type": "code",
   "execution_count": 23,
   "id": "33f2a57b",
   "metadata": {},
   "outputs": [],
   "source": [
    "# setting up the parameters of the model and initial conditions\n",
    "Main.eval(\"\"\"\n",
    "    @everywhere begin\n",
    "    p = [\n",
    "    θ => 30*pi/180,\n",
    "    B => 3,\n",
    "    Δ => Δgroup,\n",
    "    Ω => Ω_val,\n",
    "    g => 1,\n",
    "    Γ => Γ_val,\n",
    "    icomplex => im\n",
    "    ]\n",
    "    u0 = [ρ[idx,idy] => ρ_ini[idx,idy] for idx in 1:size(ρ_ini)[1] for idy in 1:size(ρ_ini)[1]]\n",
    "    tmp =0;\n",
    "end\n",
    "\"\"\");"
   ]
  },
  {
   "cell_type": "code",
   "execution_count": 26,
   "id": "a0efab90",
   "metadata": {},
   "outputs": [],
   "source": [
    "# creating the problem to solve\n",
    "Main.eval(\"\"\"\n",
    "@everywhere begin\n",
    "    tspan = (0.0, 3000.)\n",
    "    prob = ODEProblem(bloch, ρ_ini, tspan, p, jac = true)\n",
    "end\n",
    "\"\"\");"
   ]
  },
  {
   "cell_type": "code",
   "execution_count": 27,
   "id": "4b927267",
   "metadata": {},
   "outputs": [
    {
     "data": {
      "image/png": "[encoded data removed]",
      "text/plain": [
       "<Figure size 576x360 with 1 Axes>"
      ]
     },
     "metadata": {
      "needs_background": "light"
     },
     "output_type": "display_data"
    }
   ],
   "source": [
    "# solving the ODEProblem, keep in mind that the first run compiles called functions\n",
    "# the first run will be significantly slower (due to compilation), but any subsequent solves are fast\n",
    "Main.eval(\"@time sol = solve(prob, Tsit5(), abstol = 1e-10, reltol = 1e-10)\");\n",
    "ut = np.array(Main.eval(\"sol[:]\"))\n",
    "dim = int(np.sqrt(ut.shape[1]))\n",
    "pop_results = np.real(np.einsum('jji->ji',ut.reshape(-1,dim, dim).T))\n",
    "t_array = Main.eval(\"sol.t\") \n",
    "fig, ax = plt.subplots(figsize = (8,5))\n",
    "\n",
    "for idx, pop in enumerate(pop_results):\n",
    "    ax.plot(t_array, pop, lw = 2, label = f\"ρ$_{{{idx},{idx}}}$\")\n",
    "\n",
    "ax.set_xlabel('time')\n",
    "ax.set_ylabel('population')\n",
    "ax.legend(fontsize = 14)\n",
    "set_fontsize(ax, 14)"
   ]
  },
  {
   "cell_type": "code",
   "execution_count": 68,
   "id": "69f5751a",
   "metadata": {},
   "outputs": [
    {
     "data": {
      "image/png": "[encoded data removed]",
      "text/plain": [
       "<Figure size 576x360 with 1 Axes>"
      ]
     },
     "metadata": {
      "needs_background": "light"
     },
     "output_type": "display_data"
    }
   ],
   "source": [
    "ut = np.array(Main.eval(\"sol[:]\"))\n",
    "dim = int(np.sqrt(ut.shape[1]))\n",
    "pop_results = np.real(np.einsum('jji->ji',ut.reshape(-1,dim, dim).T))\n",
    "t_array = Main.eval(\"sol.t\") \n",
    "fig, ax = plt.subplots(figsize = (8,5))\n",
    "\n",
    "for idx, pop in enumerate(pop_results):\n",
    "    ax.plot(t_array, pop, lw = 2, label = f\"ρ$_{{{idx},{idx}}}$\")\n",
    "\n",
    "ax.set_xlabel('time')\n",
    "ax.set_ylabel('population')\n",
    "ax.set_xlim([0, 500])\n",
    "ax.legend(fontsize = 14)\n",
    "set_fontsize(ax, 14)"
   ]
  },
  {
   "cell_type": "code",
   "execution_count": null,
   "id": "0957e95b",
   "metadata": {},
   "outputs": [],
   "source": []
  },
  {
   "cell_type": "markdown",
   "id": "6faca5cf",
   "metadata": {},
   "source": [
    "# Sweep B field and theta Omega = Gamma"
   ]
  },
  {
   "cell_type": "code",
   "execution_count": 39,
   "id": "12160308",
   "metadata": {},
   "outputs": [],
   "source": [
    "# creating the parameter space to scan\n",
    "var1list = np.linspace(0,np.pi/2,40)\n",
    "var2list = np.linspace(-1,1,40)\n",
    "params = np.array(np.meshgrid(var1list, var2list)).T.reshape(-1,2)\n",
    "\n",
    "Main.params = params\n",
    "Main.eval(\"@everywhere params = $params\")"
   ]
  },
  {
   "cell_type": "code",
   "execution_count": 40,
   "id": "c7802ee4",
   "metadata": {},
   "outputs": [],
   "source": [
    "Main.eval(\"\"\"\n",
    "@everywhere function prob_func(prob,i,repeat)\n",
    "    Δgroup = 0\n",
    "    Ω_val = Γ_val\n",
    "    pnew = ModelingToolkit.varmap_to_vars([\n",
    "        θ => params[i,1],\n",
    "        B => params[i,2],\n",
    "        Δ => Δgroup,\n",
    "        Ω => Ω_val,\n",
    "        g => 1,\n",
    "        Γ => Γ_val,\n",
    "        icomplex => im\n",
    "        ], parameters(bloch))\n",
    "   remake(prob, p = pnew)\n",
    "end\n",
    "\"\"\")"
   ]
  },
  {
   "cell_type": "code",
   "execution_count": 41,
   "id": "1c9fedd4",
   "metadata": {},
   "outputs": [],
   "source": [
    "Main.eval(\"\"\"\n",
    "@everywhere function output_func(sol,i)\n",
    "           return trapz(sol.t, [real(sol.u[j][1+(6-1)*9])+real(sol.u[j][1+(7-1)*9])+real(sol.u[j][1+(8-1)*9]) for j in 1:size(sol.u)[1]]), false\n",
    "       end\n",
    "\"\"\")\n",
    "Main.eval(\"ens_prob = EnsembleProblem(prob, prob_func = prob_func, output_func = output_func)\");"
   ]
  },
  {
   "cell_type": "code",
   "execution_count": 42,
   "id": "bd1b9545",
   "metadata": {},
   "outputs": [
    {
     "data": {
      "text/plain": [
       "45.335225"
      ]
     },
     "execution_count": 42,
     "metadata": {},
     "output_type": "execute_result"
    }
   ],
   "source": [
    "# solve the EnsembleProblem\n",
    "# EnsembleDistributed() is the parallel solver method. See DifferentialEquations.jl for more options.\n",
    "Main.eval(\"\"\"\n",
    "@time sim = solve(ens_prob, Tsit5(), EnsembleDistributed(), save_start = true, save_end = true,\n",
    "                   save_everystep = true; trajectories = size(params)[1], adaptive=true, \n",
    "                   abstol = 1e-9, reltol =1e-6)\n",
    "sim.elapsedTime\n",
    "\"\"\")"
   ]
  },
  {
   "cell_type": "code",
   "execution_count": 43,
   "id": "6be03ec1",
   "metadata": {},
   "outputs": [
    {
     "data": {
      "image/png": "[encoded data removed]",
      "text/plain": [
       "<Figure size 720x576 with 2 Axes>"
      ]
     },
     "metadata": {
      "needs_background": "light"
     },
     "output_type": "display_data"
    }
   ],
   "source": [
    "fig, ax = plt.subplots(figsize = (10,8))\n",
    "\n",
    "tcf = ax.tricontourf(params[:,0]*180/np.pi, params[:,1], np.array(Main.eval(\"sim.u\"))/3000)\n",
    "\n",
    "cbar = fig.colorbar(tcf)\n",
    "\n",
    "ax.set_xlabel('θ')\n",
    "ax.set_ylabel('B')\n",
    "cbar.ax.set_ylabel('excited state population')\n",
    "# ax.set_yscale('log')\n",
    "\n",
    "set_fontsize(ax, 14)\n",
    "set_fontsize(cbar.ax, 14)"
   ]
  },
  {
   "cell_type": "code",
   "execution_count": null,
   "id": "f625fdd7",
   "metadata": {},
   "outputs": [],
   "source": []
  },
  {
   "cell_type": "code",
   "execution_count": null,
   "id": "645c7b26",
   "metadata": {},
   "outputs": [],
   "source": []
  },
  {
   "cell_type": "markdown",
   "id": "139592fe",
   "metadata": {},
   "source": [
    "# Sweep B field and theta Omega = 0.1 Gamma longer evolution time"
   ]
  },
  {
   "cell_type": "code",
   "execution_count": 86,
   "id": "8e09fbb6",
   "metadata": {},
   "outputs": [],
   "source": [
    "# creating the parameter space to scan\n",
    "var1list = np.linspace(0,np.pi/2,40)\n",
    "var2list = np.linspace(0,1,20)\n",
    "params = np.array(np.meshgrid(var1list, var2list)).T.reshape(-1,2)\n",
    "\n",
    "Main.params = params\n",
    "Main.eval(\"@everywhere params = $params\")"
   ]
  },
  {
   "cell_type": "code",
   "execution_count": 87,
   "id": "ca49a51f",
   "metadata": {},
   "outputs": [],
   "source": [
    "Main.eval(\"\"\"\n",
    "@everywhere function prob_func(prob,i,repeat)\n",
    "    Δgroup = 0\n",
    "    Ω_val = 0.1*Γ_val\n",
    "    pnew = ModelingToolkit.varmap_to_vars([\n",
    "        θ => params[i,1],\n",
    "        B => params[i,2],\n",
    "        Δ => Δgroup,\n",
    "        Ω => Ω_val,\n",
    "        g => 1,\n",
    "        Γ => Γ_val,\n",
    "        icomplex => im\n",
    "        ], parameters(bloch))\n",
    "    tspannew = (0.0, 300000.)\n",
    "    remake(prob, p = pnew, tspan = tspannew)\n",
    "end\n",
    "\"\"\")"
   ]
  },
  {
   "cell_type": "code",
   "execution_count": 88,
   "id": "37e1b7c0",
   "metadata": {},
   "outputs": [],
   "source": [
    "Main.eval(\"\"\"\n",
    "@everywhere function output_func(sol,i)\n",
    "           return trapz(sol.t, [real(sol.u[j][1+(6-1)*9])+real(sol.u[j][1+(7-1)*9])+real(sol.u[j][1+(8-1)*9]) for j in 1:size(sol.u)[1]]), false\n",
    "       end\n",
    "\"\"\")\n",
    "Main.eval(\"ens_prob = EnsembleProblem(prob, prob_func = prob_func, output_func = output_func)\");"
   ]
  },
  {
   "cell_type": "code",
   "execution_count": null,
   "id": "0ee7803b",
   "metadata": {},
   "outputs": [],
   "source": [
    "# solve the EnsembleProblem\n",
    "# EnsembleDistributed() is the parallel solver method. See DifferentialEquations.jl for more options.\n",
    "Main.eval(\"\"\"\n",
    "@time sim = solve(ens_prob, Tsit5(), EnsembleDistributed(), save_start = true, save_end = true,\n",
    "                   save_everystep = true; trajectories = size(params)[1], adaptive=true, \n",
    "                   abstol = 1e-9, reltol =1e-6)\n",
    "sim.elapsedTime\n",
    "\"\"\")"
   ]
  },
  {
   "cell_type": "code",
   "execution_count": null,
   "id": "3c87ec69",
   "metadata": {},
   "outputs": [],
   "source": [
    "fig, ax = plt.subplots(figsize = (10,8))\n",
    "\n",
    "tcf = ax.tricontourf(params[:,0]*180/np.pi, params[:,1], np.array(Main.eval(\"sim.u\"))/300000)\n",
    "\n",
    "cbar = fig.colorbar(tcf)\n",
    "\n",
    "ax.set_xlabel('θ')\n",
    "ax.set_ylabel('B')\n",
    "cbar.ax.set_ylabel('excited state population')\n",
    "# ax.set_yscale('log')\n",
    "\n",
    "set_fontsize(ax, 14)\n",
    "set_fontsize(cbar.ax, 14)"
   ]
  },
  {
   "cell_type": "code",
   "execution_count": null,
   "id": "ef15b9ee",
   "metadata": {},
   "outputs": [],
   "source": []
  },
  {
   "cell_type": "code",
   "execution_count": null,
   "id": "cd80f6a3",
   "metadata": {},
   "outputs": [],
   "source": []
  },
  {
   "cell_type": "code",
   "execution_count": null,
   "id": "af0479f8",
   "metadata": {},
   "outputs": [],
   "source": []
  },
  {
   "cell_type": "code",
   "execution_count": null,
   "id": "12483c4d",
   "metadata": {},
   "outputs": [],
   "source": []
  },
  {
   "cell_type": "code",
   "execution_count": null,
   "id": "69b7958c",
   "metadata": {},
   "outputs": [],
   "source": []
  },
  {
   "cell_type": "markdown",
   "id": "8efac569",
   "metadata": {},
   "source": [
    "# Sweep B field and theta Omega = 0.1 Gamma"
   ]
  },
  {
   "cell_type": "code",
   "execution_count": 74,
   "id": "5704cf4a",
   "metadata": {},
   "outputs": [],
   "source": [
    "# creating the parameter space to scan\n",
    "var1list = np.linspace(0,np.pi/2,40)\n",
    "var2list = np.linspace(0,1,20)\n",
    "params = np.array(np.meshgrid(var1list, var2list)).T.reshape(-1,2)\n",
    "\n",
    "Main.params = params\n",
    "Main.eval(\"@everywhere params = $params\")"
   ]
  },
  {
   "cell_type": "code",
   "execution_count": 1,
   "id": "77552504",
   "metadata": {},
   "outputs": [
    {
     "data": {
      "text/plain": [
       "-0.00825"
      ]
     },
     "execution_count": 1,
     "metadata": {},
     "output_type": "execute_result"
    }
   ],
   "source": [
    "-0.01 * 0.925 + 0.001"
   ]
  },
  {
   "cell_type": "code",
   "execution_count": 75,
   "id": "7c82be61",
   "metadata": {},
   "outputs": [],
   "source": [
    "Main.eval(\"\"\"\n",
    "@everywhere function prob_func(prob,i,repeat)\n",
    "    Δgroup = 0\n",
    "    Ω_val = 0.1*Γ_val\n",
    "    pnew = ModelingToolkit.varmap_to_vars([\n",
    "        θ => params[i,1],\n",
    "        B => params[i,2],\n",
    "        Δ => Δgroup,\n",
    "        Ω => Ω_val,\n",
    "        g => 1,\n",
    "        Γ => Γ_val,\n",
    "        icomplex => im\n",
    "        ], parameters(bloch))\n",
    "   remake(prob, p = pnew)\n",
    "end\n",
    "\"\"\")"
   ]
  },
  {
   "cell_type": "code",
   "execution_count": 76,
   "id": "9ae7f78a",
   "metadata": {},
   "outputs": [],
   "source": [
    "Main.eval(\"\"\"\n",
    "@everywhere function output_func(sol,i)\n",
    "           return trapz(sol.t, [real(sol.u[j][1+(6-1)*9])+real(sol.u[j][1+(7-1)*9])+real(sol.u[j][1+(8-1)*9]) for j in 1:size(sol.u)[1]]), false\n",
    "       end\n",
    "\"\"\")\n",
    "Main.eval(\"ens_prob = EnsembleProblem(prob, prob_func = prob_func, output_func = output_func)\");"
   ]
  },
  {
   "cell_type": "code",
   "execution_count": 77,
   "id": "4520884d",
   "metadata": {},
   "outputs": [
    {
     "data": {
      "text/plain": [
       "27.2627764"
      ]
     },
     "execution_count": 77,
     "metadata": {},
     "output_type": "execute_result"
    }
   ],
   "source": [
    "# solve the EnsembleProblem\n",
    "# EnsembleDistributed() is the parallel solver method. See DifferentialEquations.jl for more options.\n",
    "Main.eval(\"\"\"\n",
    "@time sim = solve(ens_prob, Tsit5(), EnsembleDistributed(), save_start = true, save_end = true,\n",
    "                   save_everystep = true; trajectories = size(params)[1], adaptive=true, \n",
    "                   abstol = 1e-9, reltol =1e-6)\n",
    "sim.elapsedTime\n",
    "\"\"\")"
   ]
  },
  {
   "cell_type": "code",
   "execution_count": 78,
   "id": "22ec75cc",
   "metadata": {},
   "outputs": [
    {
     "data": {
      "image/png": "[encoded data removed]",
      "text/plain": [
       "<Figure size 720x576 with 2 Axes>"
      ]
     },
     "metadata": {
      "needs_background": "light"
     },
     "output_type": "display_data"
    }
   ],
   "source": [
    "fig, ax = plt.subplots(figsize = (10,8))\n",
    "\n",
    "tcf = ax.tricontourf(params[:,0]*180/np.pi, params[:,1], np.array(Main.eval(\"sim.u\"))/3000)\n",
    "\n",
    "cbar = fig.colorbar(tcf)\n",
    "\n",
    "ax.set_xlabel('θ')\n",
    "ax.set_ylabel('B')\n",
    "cbar.ax.set_ylabel('excited state population')\n",
    "# ax.set_yscale('log')\n",
    "\n",
    "set_fontsize(ax, 14)\n",
    "set_fontsize(cbar.ax, 14)"
   ]
  },
  {
   "cell_type": "code",
   "execution_count": null,
   "id": "cc8b0edb",
   "metadata": {},
   "outputs": [],
   "source": []
  },
  {
   "cell_type": "markdown",
   "id": "79fc20a9",
   "metadata": {},
   "source": [
    "# Sweep B field and theta Omega = Gamma"
   ]
  },
  {
   "cell_type": "code",
   "execution_count": 45,
   "id": "fc5f013a",
   "metadata": {},
   "outputs": [],
   "source": [
    "# creating the parameter space to scan\n",
    "var1list = np.linspace(0,np.pi/2,40)\n",
    "var2list = np.linspace(0,1,20)\n",
    "params = np.array(np.meshgrid(var1list, var2list)).T.reshape(-1,2)\n",
    "\n",
    "Main.params = params\n",
    "Main.eval(\"@everywhere params = $params\")"
   ]
  },
  {
   "cell_type": "code",
   "execution_count": 46,
   "id": "8f4995f3",
   "metadata": {},
   "outputs": [],
   "source": [
    "Main.eval(\"\"\"\n",
    "@everywhere function prob_func(prob,i,repeat)\n",
    "    Δgroup = 0\n",
    "    Ω_val = Γ_val\n",
    "    pnew = ModelingToolkit.varmap_to_vars([\n",
    "        θ => params[i,1],\n",
    "        B => params[i,2],\n",
    "        Δ => Δgroup,\n",
    "        Ω => Ω_val,\n",
    "        g => 1,\n",
    "        Γ => Γ_val,\n",
    "        icomplex => im\n",
    "        ], parameters(bloch))\n",
    "   remake(prob, p = pnew)\n",
    "end\n",
    "\"\"\")"
   ]
  },
  {
   "cell_type": "code",
   "execution_count": 47,
   "id": "105b9fe9",
   "metadata": {},
   "outputs": [],
   "source": [
    "Main.eval(\"\"\"\n",
    "@everywhere function output_func(sol,i)\n",
    "           return trapz(sol.t, [real(sol.u[j][1+(6-1)*9])+real(sol.u[j][1+(7-1)*9])+real(sol.u[j][1+(8-1)*9]) for j in 1:size(sol.u)[1]]), false\n",
    "       end\n",
    "\"\"\")\n",
    "Main.eval(\"ens_prob = EnsembleProblem(prob, prob_func = prob_func, output_func = output_func)\");"
   ]
  },
  {
   "cell_type": "code",
   "execution_count": 48,
   "id": "66182717",
   "metadata": {},
   "outputs": [
    {
     "data": {
      "text/plain": [
       "21.7249696"
      ]
     },
     "execution_count": 48,
     "metadata": {},
     "output_type": "execute_result"
    }
   ],
   "source": [
    "# solve the EnsembleProblem\n",
    "# EnsembleDistributed() is the parallel solver method. See DifferentialEquations.jl for more options.\n",
    "Main.eval(\"\"\"\n",
    "@time sim = solve(ens_prob, Tsit5(), EnsembleDistributed(), save_start = true, save_end = true,\n",
    "                   save_everystep = true; trajectories = size(params)[1], adaptive=true, \n",
    "                   abstol = 1e-9, reltol =1e-6)\n",
    "sim.elapsedTime\n",
    "\"\"\")"
   ]
  },
  {
   "cell_type": "code",
   "execution_count": 49,
   "id": "5ab684f1",
   "metadata": {},
   "outputs": [
    {
     "data": {
      "image/png": "[encoded data removed]",
      "text/plain": [
       "<Figure size 720x576 with 2 Axes>"
      ]
     },
     "metadata": {
      "needs_background": "light"
     },
     "output_type": "display_data"
    }
   ],
   "source": [
    "fig, ax = plt.subplots(figsize = (10,8))\n",
    "\n",
    "tcf = ax.tricontourf(params[:,0]*180/np.pi, params[:,1], np.array(Main.eval(\"sim.u\"))/3000)\n",
    "\n",
    "cbar = fig.colorbar(tcf)\n",
    "\n",
    "ax.set_xlabel('θ')\n",
    "ax.set_ylabel('B')\n",
    "cbar.ax.set_ylabel('excited state population')\n",
    "# ax.set_yscale('log')\n",
    "\n",
    "set_fontsize(ax, 14)\n",
    "set_fontsize(cbar.ax, 14)"
   ]
  },
  {
   "cell_type": "code",
   "execution_count": null,
   "id": "17aad635",
   "metadata": {},
   "outputs": [],
   "source": []
  },
  {
   "cell_type": "code",
   "execution_count": null,
   "id": "3c7419da",
   "metadata": {},
   "outputs": [],
   "source": []
  },
  {
   "cell_type": "markdown",
   "id": "11b1011b",
   "metadata": {},
   "source": [
    "# Sweep B field and theta at omega=10gamma"
   ]
  },
  {
   "cell_type": "code",
   "execution_count": 55,
   "id": "b8b63f52",
   "metadata": {},
   "outputs": [],
   "source": []
  },
  {
   "cell_type": "code",
   "execution_count": 56,
   "id": "11261ccb",
   "metadata": {},
   "outputs": [],
   "source": []
  },
  {
   "cell_type": "code",
   "execution_count": 57,
   "id": "32d167ae",
   "metadata": {},
   "outputs": [],
   "source": [
    "Main.eval(\"\"\"\n",
    "@everywhere function output_func(sol,i)\n",
    "           return trapz(sol.t, [real(sol.u[j][1+(6-1)*9])+real(sol.u[j][1+(7-1)*9])+real(sol.u[j][1+(8-1)*9]) for j in 1:size(sol.u)[1]]), false\n",
    "       end\n",
    "\"\"\")\n",
    "Main.eval(\"ens_prob = EnsembleProblem(prob, prob_func = prob_func, output_func = output_func)\");"
   ]
  },
  {
   "cell_type": "code",
   "execution_count": 58,
   "id": "6b2128ff",
   "metadata": {},
   "outputs": [
    {
     "data": {
      "text/plain": [
       "646.2564009"
      ]
     },
     "execution_count": 58,
     "metadata": {},
     "output_type": "execute_result"
    }
   ],
   "source": [
    "# solve the EnsembleProblem\n",
    "# EnsembleDistributed() is the parallel solver method. See DifferentialEquations.jl for more options.\n",
    "Main.eval(\"\"\"\n",
    "@time sim = solve(ens_prob, Tsit5(), EnsembleDistributed(), save_start = true, save_end = true,\n",
    "                   save_everystep = true; trajectories = size(params)[1], adaptive=true, \n",
    "                   abstol = 1e-9, reltol =1e-6)\n",
    "sim.elapsedTime\n",
    "\"\"\")"
   ]
  },
  {
   "cell_type": "code",
   "execution_count": 59,
   "id": "64b31c0f",
   "metadata": {},
   "outputs": [
    {
     "data": {
      "image/png": "[encoded data removed]",
      "text/plain": [
       "<Figure size 720x576 with 2 Axes>"
      ]
     },
     "metadata": {
      "needs_background": "light"
     },
     "output_type": "display_data"
    }
   ],
   "source": [
    "fig, ax = plt.subplots(figsize = (10,8))\n",
    "\n",
    "tcf = ax.tricontourf(params[:,0]*180/np.pi, params[:,1], np.array(Main.eval(\"sim.u\"))/3000)\n",
    "\n",
    "cbar = fig.colorbar(tcf)\n",
    "\n",
    "ax.set_xlabel('θ')\n",
    "ax.set_ylabel('B')\n",
    "cbar.ax.set_ylabel('excited state population')\n",
    "# ax.set_yscale('log')\n",
    "\n",
    "set_fontsize(ax, 14)\n",
    "set_fontsize(cbar.ax, 14)"
   ]
  },
  {
   "cell_type": "code",
   "execution_count": null,
   "id": "ad3a24dd",
   "metadata": {},
   "outputs": [],
   "source": []
  },
  {
   "cell_type": "code",
   "execution_count": null,
   "id": "27ca2c90",
   "metadata": {},
   "outputs": [],
   "source": []
  },
  {
   "cell_type": "code",
   "execution_count": null,
   "id": "dc97863f",
   "metadata": {},
   "outputs": [],
   "source": []
  },
  {
   "cell_type": "markdown",
   "id": "230145e6",
   "metadata": {},
   "source": [
    "# Sweep B field and rabi rate"
   ]
  },
  {
   "cell_type": "code",
   "execution_count": 79,
   "id": "456ac795",
   "metadata": {},
   "outputs": [],
   "source": [
    "# creating the parameter space to scan\n",
    "var1list = np.linspace(0,20,30)\n",
    "var2list = np.linspace(0,5,30)\n",
    "params = np.array(np.meshgrid(var1list, var2list)).T.reshape(-1,2)\n",
    "\n",
    "Main.params = params\n",
    "Main.eval(\"@everywhere params = $params\")"
   ]
  },
  {
   "cell_type": "code",
   "execution_count": 80,
   "id": "92590552",
   "metadata": {},
   "outputs": [],
   "source": [
    "Main.eval(\"\"\"\n",
    "@everywhere function prob_func(prob,i,repeat)\n",
    "    Δgroup = 0\n",
    "    pnew = ModelingToolkit.varmap_to_vars([\n",
    "        θ => 60/180*pi,\n",
    "        B => params[i,2],\n",
    "        Δ => Δgroup,\n",
    "        Ω => params[i,1],\n",
    "        g => 1,\n",
    "        Γ => Γ_val,\n",
    "        icomplex => im\n",
    "        ], parameters(bloch))\n",
    "   remake(prob, p = pnew)\n",
    "end\n",
    "\"\"\")"
   ]
  },
  {
   "cell_type": "code",
   "execution_count": 81,
   "id": "12110778",
   "metadata": {},
   "outputs": [],
   "source": [
    "Main.eval(\"\"\"\n",
    "@everywhere function output_func(sol,i)\n",
    "           return trapz(sol.t, [real(sol.u[j][1+(6-1)*9])+real(sol.u[j][1+(7-1)*9])+real(sol.u[j][1+(8-1)*9]) for j in 1:size(sol.u)[1]]), false\n",
    "       end\n",
    "\"\"\")\n",
    "Main.eval(\"ens_prob = EnsembleProblem(prob, prob_func = prob_func, output_func = output_func)\");"
   ]
  },
  {
   "cell_type": "code",
   "execution_count": 82,
   "id": "a316b771",
   "metadata": {},
   "outputs": [
    {
     "data": {
      "text/plain": [
       "156.850944"
      ]
     },
     "execution_count": 82,
     "metadata": {},
     "output_type": "execute_result"
    }
   ],
   "source": [
    "# solve the EnsembleProblem\n",
    "# EnsembleDistributed() is the parallel solver method. See DifferentialEquations.jl for more options.\n",
    "Main.eval(\"\"\"\n",
    "@time sim = solve(ens_prob, Tsit5(), EnsembleDistributed(), save_start = true, save_end = true,\n",
    "                   save_everystep = true; trajectories = size(params)[1], adaptive=true, \n",
    "                   abstol = 1e-9, reltol =1e-6)\n",
    "sim.elapsedTime\n",
    "\"\"\")"
   ]
  },
  {
   "cell_type": "code",
   "execution_count": 84,
   "id": "bc391eb4",
   "metadata": {},
   "outputs": [
    {
     "data": {
      "image/png": "[encoded data removed]",
      "text/plain": [
       "<Figure size 720x576 with 2 Axes>"
      ]
     },
     "metadata": {
      "needs_background": "light"
     },
     "output_type": "display_data"
    }
   ],
   "source": [
    "fig, ax = plt.subplots(figsize = (10,8))\n",
    "\n",
    "tcf = ax.tricontourf(params[:,0], params[:,1], np.array(Main.eval(\"sim.u\"))/3000)\n",
    "\n",
    "cbar = fig.colorbar(tcf)\n",
    "\n",
    "ax.set_xlabel('Γ')\n",
    "ax.set_ylabel('B')\n",
    "cbar.ax.set_ylabel('excited state population')\n",
    "# ax.set_yscale('log')\n",
    "\n",
    "set_fontsize(ax, 14)\n",
    "set_fontsize(cbar.ax, 14)"
   ]
  },
  {
   "cell_type": "code",
   "execution_count": null,
   "id": "b9fbd215",
   "metadata": {},
   "outputs": [],
   "source": []
  },
  {
   "cell_type": "code",
   "execution_count": null,
   "id": "e703e904",
   "metadata": {},
   "outputs": [],
   "source": []
  },
  {
   "cell_type": "markdown",
   "id": "e3960f67",
   "metadata": {},
   "source": [
    "# Sweep B field and rabi rate"
   ]
  },
  {
   "cell_type": "code",
   "execution_count": 69,
   "id": "995cdb1e",
   "metadata": {},
   "outputs": [],
   "source": [
    "# creating the parameter space to scan\n",
    "var1list = np.linspace(0,10,20)\n",
    "var2list = np.linspace(0,5,20)\n",
    "params = np.array(np.meshgrid(var1list, var2list)).T.reshape(-1,2)\n",
    "\n",
    "Main.params = params\n",
    "Main.eval(\"@everywhere params = $params\")"
   ]
  },
  {
   "cell_type": "code",
   "execution_count": 70,
   "id": "6539d023",
   "metadata": {},
   "outputs": [],
   "source": [
    "Main.eval(\"\"\"\n",
    "@everywhere function prob_func(prob,i,repeat)\n",
    "    Δgroup = 0\n",
    "    pnew = ModelingToolkit.varmap_to_vars([\n",
    "        θ => 90/180*pi,\n",
    "        B => params[i,2],\n",
    "        Δ => Δgroup,\n",
    "        Ω => params[i,1],\n",
    "        g => 1,\n",
    "        Γ => Γ_val,\n",
    "        icomplex => im\n",
    "        ], parameters(bloch))\n",
    "   remake(prob, p = pnew)\n",
    "end\n",
    "\"\"\")"
   ]
  },
  {
   "cell_type": "code",
   "execution_count": 71,
   "id": "1e2a69c7",
   "metadata": {},
   "outputs": [],
   "source": [
    "Main.eval(\"\"\"\n",
    "@everywhere function output_func(sol,i)\n",
    "           return trapz(sol.t, [real(sol.u[j][1+(6-1)*9])+real(sol.u[j][1+(7-1)*9])+real(sol.u[j][1+(8-1)*9]) for j in 1:size(sol.u)[1]]), false\n",
    "       end\n",
    "\"\"\")\n",
    "Main.eval(\"ens_prob = EnsembleProblem(prob, prob_func = prob_func, output_func = output_func)\");"
   ]
  },
  {
   "cell_type": "code",
   "execution_count": 72,
   "id": "35cb099a",
   "metadata": {},
   "outputs": [
    {
     "data": {
      "text/plain": [
       "75.7226873"
      ]
     },
     "execution_count": 72,
     "metadata": {},
     "output_type": "execute_result"
    }
   ],
   "source": [
    "# solve the EnsembleProblem\n",
    "# EnsembleDistributed() is the parallel solver method. See DifferentialEquations.jl for more options.\n",
    "Main.eval(\"\"\"\n",
    "@time sim = solve(ens_prob, Tsit5(), EnsembleDistributed(), save_start = true, save_end = true,\n",
    "                   save_everystep = true; trajectories = size(params)[1], adaptive=true, \n",
    "                   abstol = 1e-9, reltol =1e-6)\n",
    "sim.elapsedTime\n",
    "\"\"\")"
   ]
  },
  {
   "cell_type": "code",
   "execution_count": 73,
   "id": "7c34b750",
   "metadata": {},
   "outputs": [
    {
     "data": {
      "image/png": "[encoded data removed]",
      "text/plain": [
       "<Figure size 720x576 with 2 Axes>"
      ]
     },
     "metadata": {
      "needs_background": "light"
     },
     "output_type": "display_data"
    }
   ],
   "source": [
    "fig, ax = plt.subplots(figsize = (10,8))\n",
    "\n",
    "tcf = ax.tricontourf(params[:,0], params[:,1], np.array(Main.eval(\"sim.u\"))/3000)\n",
    "\n",
    "cbar = fig.colorbar(tcf)\n",
    "\n",
    "ax.set_xlabel('θ')\n",
    "ax.set_ylabel('B')\n",
    "cbar.ax.set_ylabel('excited state population')\n",
    "# ax.set_yscale('log')\n",
    "\n",
    "set_fontsize(ax, 14)\n",
    "set_fontsize(cbar.ax, 14)"
   ]
  },
  {
   "cell_type": "code",
   "execution_count": null,
   "id": "d3244e94",
   "metadata": {},
   "outputs": [],
   "source": []
  },
  {
   "cell_type": "code",
   "execution_count": null,
   "id": "1fb7ce04",
   "metadata": {},
   "outputs": [],
   "source": []
  }
 ],
 "metadata": {
  "kernelspec": {
   "display_name": "Python 3 (ipykernel)",
   "language": "python",
   "name": "python3"
  },
  "language_info": {
   "codemirror_mode": {
    "name": "ipython",
    "version": 3
   },
   "file_extension": ".py",
   "mimetype": "text/x-python",
   "name": "python",
   "nbconvert_exporter": "python",
   "pygments_lexer": "ipython3",
   "version": "3.9.7"
  }
 },
 "nbformat": 4,
 "nbformat_minor": 5
}
