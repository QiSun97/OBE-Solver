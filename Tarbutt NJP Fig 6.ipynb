{
 "cells": [
  {
   "cell_type": "code",
   "execution_count": 1,
   "id": "c1c8d770",
   "metadata": {},
   "outputs": [],
   "source": [
    "# import sys\n",
    "# sys.path.append(\"..\")\n",
    "\n",
    "import pickle\n",
    "import time\n",
    "import pprint\n",
    "import numpy as np\n",
    "from tqdm import tqdm\n",
    "import multiprocessing\n",
    "from sympy import Symbol, sin, cos, tan, nsimplify\n",
    "import matplotlib.pyplot as plt\n",
    "from utils.plot_utils import set_fontsize\n",
    "# from optical_bloch.utils.general import flatten\n",
    "# from optical_bloch import Hamiltonian, Dissipator, BlochEquations\n",
    "from optical_bloch_test.utils.general import flatten\n",
    "from optical_bloch_test import Hamiltonian, Dissipator, BlochEquations\n",
    "from multi_helper_funcs import multi_solve_ode, multi_solve_ode_integrate_excited"
   ]
  },
  {
   "cell_type": "markdown",
   "id": "fa464b1b",
   "metadata": {},
   "source": [
    "# System setup: 3+3 system"
   ]
  },
  {
   "cell_type": "code",
   "execution_count": 2,
   "id": "8c130e39",
   "metadata": {},
   "outputs": [],
   "source": [
    "hbar=1.054*1E-34; #[Js]\n",
    "k_b=1.381*1E-23; #[J/K]\n",
    "c=299792000; #[m/s]\n",
    "eps_0=8.854*1E-12; #[F/m]\n",
    "a0=5.29*1E-11; #[m]\n",
    "q_e=1.602*1E-19; #[C]\n",
    "Bohr_mag=1.39962449/1000*2*np.pi; #[GHz/G]\n",
    "\n",
    "ν = 1\n",
    "Γ = 1\n",
    "\n",
    "# ν = 431.27*1E12\n",
    "# Gamma = 1/(33E-9)\n",
    "\n",
    "# Re = np.sqrt(1/q_e**2 * 3*np.pi*eps_0*hbar*c**3/(2*np.pi*ν)**3 * Gamma)\n",
    "# print('for A state Re is',Re/a0, Re)\n",
    "# print(Re * q_e / (3.33564E-30))\n",
    "\n",
    "# ν = 472.03E12\n",
    "# Gamma = 1/(58E-9)\n",
    "\n",
    "# Re = np.sqrt(1/q_e**2 * 3*np.pi*eps_0*hbar*c**3/(2*np.pi*ν)**3 * Gamma)\n",
    "# print('for B state Re is',Re/a0, Re)\n",
    "# print(Re * q_e / (3.33564E-30))"
   ]
  },
  {
   "cell_type": "code",
   "execution_count": 3,
   "id": "5ff60ef6",
   "metadata": {},
   "outputs": [],
   "source": [
    "nground = 3#12\n",
    "nexcite = 3#4\n",
    "ntotal = 6#16\n",
    "\n",
    "rabi_matrix = np.zeros([ntotal,ntotal,3])\n",
    "rabi_matrix[:,:,0] = np.genfromtxt('rabimatrix33toy1.csv',delimiter=',')\n",
    "rabi_matrix[:,:,1] = np.genfromtxt('rabimatrix33toy2.csv',delimiter=',')\n",
    "rabi_matrix[:,:,2] = np.genfromtxt('rabimatrix33toy3.csv',delimiter=',')\n",
    "\n",
    "# rabi_matrix[:,:,0] = np.genfromtxt('rabimatrixXA1.csv',delimiter=',')\n",
    "# rabi_matrix[:,:,1] = np.genfromtxt('rabimatrixXA2.csv',delimiter=',')\n",
    "# rabi_matrix[:,:,2] = np.genfromtxt('rabimatrixXA3.csv',delimiter=',')"
   ]
  },
  {
   "cell_type": "code",
   "execution_count": 4,
   "id": "d399e546",
   "metadata": {},
   "outputs": [],
   "source": [
    "E0 = Symbol(u'E0', real = True)\n",
    "Ee = Symbol(u'Ee', real = True)\n",
    "\n",
    "ω = Symbol(u'ω', real = True)\n",
    "Ω = Symbol(u'Ω', real = True)\n",
    "Δ = Symbol(u'Δ', real = True)\n",
    "\n",
    "ge = Symbol(u'ge', real = True)\n",
    "gg = Symbol(u'gg', real = True)\n",
    "\n",
    "# ϕ = Symbol(u'ϕ', real = True)\n",
    "# θ = Symbol(u'θ', real = True)\n",
    "B = Symbol(u'B', real = True)\n",
    "\n",
    "# Coskzm = Symbol(u'Coskzm', real = True)\n",
    "# Coskzp = Symbol(u'Coskzp', real = True)\n",
    "\n",
    "Coskz = Symbol(u'Coskz', real = True)\n",
    "Sinkz = Symbol(u'Sinkz', real = True)\n",
    "\n",
    "# HFS12 = Symbol(u'HFS12', real = True)\n",
    "# HFS32 = Symbol(u'HFS32', real = True)\n",
    "# SR = Symbol(u'SR', real = True)\n",
    "# HFSB = Symbol(u'HFSB', real = True)\n",
    "\n",
    "# ω1 = Symbol(u'ω1', real = True)\n",
    "# ω2 = Symbol(u'ω2', real = True)\n",
    "# ω3 = Symbol(u'ω3', real = True)\n",
    "# ω4 = Symbol(u'ω4', real = True)\n",
    "# Ω1 = Symbol(u'Ω1', real = True)\n",
    "# Ω2 = Symbol(u'Ω2', real = True)\n",
    "# Ω3 = Symbol(u'Ω3', real = True)\n",
    "# Ω4 = Symbol(u'Ω4', real = True)\n",
    "# Δ1 = Symbol(u'Δ1', real = True)\n",
    "# Δ2 = Symbol(u'Δ2', real = True)\n",
    "# Δ3 = Symbol(u'Δ3', real = True)\n",
    "# Δ4 = Symbol(u'Δ4', real = True)\n",
    "\n",
    "\n",
    "# g_x12F1 = Symbol(u'g_x12F1', real = True)\n",
    "# g_x32F1 = Symbol(u'g_x32F1', real = True)\n",
    "# g_x32F2 = Symbol(u'g_x32F2', real = True)\n"
   ]
  },
  {
   "cell_type": "code",
   "execution_count": 5,
   "id": "7a385415",
   "metadata": {},
   "outputs": [],
   "source": [
    "ham = Hamiltonian(ntotal)\n",
    "ham.addEnergies([E0-gg*B, E0, E0+gg*B, Ee-ge*B, Ee, Ee+ge*B])\n",
    "\n",
    "# States are added in following order:\n",
    "# XSigma %1-4 - J=1/2, F=0, m=0;  F=1, m=-1,0,1 ;\n",
    "# XSigma %5-7 - J=3/2, F=1, m=-1,0,1;\n",
    "# XSigma %8-12 - J=3/2, F=2, m=-2,-1,0,1,2;\n",
    "# BSigma %13-16 - J=1/2, F=0, m=0;  F=1, m=-1,0,1\n",
    "\n",
    "# ham = Hamiltonian(ntotal)\n",
    "# ham.addEnergies([E0,E0-HFS12-g_x12F1*B,E0-HFS12,E0-HFS12+g_x12F1*B,\n",
    "#                  E0+SR-g_x32F1*B,E0+SR,E0+SR+g_x32F1*B,\n",
    "#                  E0+SR+HFS32-2*g_x32F2*B,E0+SR+HFS32-g_x32F2*B,E0+SR+HFS32,E0+SR+HFS32+g_x32F2*B,E0+SR+HFS32+2*g_x32F2*B,\n",
    "#                  Ee,Ee+HFSB,Ee+HFSB,Ee+HFSB])"
   ]
  },
  {
   "cell_type": "code",
   "execution_count": 6,
   "id": "5961d96e",
   "metadata": {},
   "outputs": [],
   "source": [
    "for i in [0,1,2]:\n",
    "    for j in [3,4,5]:\n",
    "        if rabi_matrix[i, j, 0] != 0:\n",
    "            prefactor = Sinkz-1j*Coskz\n",
    "            ham.addCoupling(i, j, prefactor*Ω*rabi_matrix[i,j,0], ω)\n",
    "        if rabi_matrix[i, j, 2] != 0:\n",
    "            prefactor = -Sinkz-1j*Coskz\n",
    "            ham.addCoupling(i, j, prefactor*Ω*rabi_matrix[i,j,2], ω)\n",
    "\n",
    "# for i in [0]:\n",
    "#     for j in range(nground, ntotal):\n",
    "#         if rabi_matrix[i, j, 0] != 0:\n",
    "#             prefactor = (-1)/np.sqrt(2)*sin(θ*t)\n",
    "#             ham.addCoupling(i, j, prefactor*Ω1*rabi_matrix[i,j,0], ω1)\n",
    "#         if rabi_matrix[i, j, 1] != 0:\n",
    "#             prefactor = (1)*cos(θ)\n",
    "#             ham.addCoupling(i, j, prefactor*Ω1*rabi_matrix[i,j,1], ω1)\n",
    "#         if rabi_matrix[i, j, 2] != 0:\n",
    "#             prefactor = (1)/np.sqrt(2)*sin(θ)\n",
    "#             ham.addCoupling(i, j, prefactor*Ω1*rabi_matrix[i,j,2], ω1)\n",
    "            \n",
    "# for i in [1,2,3]:\n",
    "#     for j in range(nground, ntotal):\n",
    "#         if rabi_matrix[i, j, 0] != 0:\n",
    "#             prefactor = (-1)/np.sqrt(2)*sin(θ)\n",
    "#             ham.addCoupling(i, j, prefactor*Ω2*rabi_matrix[i,j,0], ω2)\n",
    "#         if rabi_matrix[i, j, 1] != 0:\n",
    "#             prefactor = (1)*cos(θ)\n",
    "#             ham.addCoupling(i, j, prefactor*Ω2*rabi_matrix[i,j,1], ω2)\n",
    "#         if rabi_matrix[i, j, 2] != 0:\n",
    "#             prefactor = (1)/np.sqrt(2)*sin(θ)\n",
    "#             ham.addCoupling(i, j, prefactor*Ω2*rabi_matrix[i,j,2], ω2)\n",
    "            \n",
    "# for i in [4,5,6]:\n",
    "#     for j in range(nground, ntotal):\n",
    "#         if rabi_matrix[i, j, 0] != 0:\n",
    "#             prefactor = (-1)/np.sqrt(2)*sin(θ)\n",
    "#             ham.addCoupling(i, j, prefactor*Ω3*rabi_matrix[i,j,0], ω3)\n",
    "#         if rabi_matrix[i, j, 1] != 0:\n",
    "#             prefactor = (1)*cos(θ)\n",
    "#             ham.addCoupling(i, j, prefactor*Ω3*rabi_matrix[i,j,1], ω3)\n",
    "#         if rabi_matrix[i, j, 2] != 0:\n",
    "#             prefactor = (1)/np.sqrt(2)*sin(θ)\n",
    "#             ham.addCoupling(i, j, prefactor*Ω3*rabi_matrix[i,j,2], ω3)\n",
    "            \n",
    "# for i in [7,8,9,10,11]:\n",
    "#     for j in range(nground, ntotal):\n",
    "#         if rabi_matrix[i, j, 0] != 0:\n",
    "#             prefactor = (-1)/np.sqrt(2)*sin(θ)\n",
    "#             ham.addCoupling(i, j, prefactor*Ω4*rabi_matrix[i,j,0], ω4)\n",
    "#         if rabi_matrix[i, j, 1] != 0:\n",
    "#             prefacccccccctor = (1)*cos(θ)\n",
    "#             ham.addCoupling(i, j, prefactor*Ω4*rabi_matrix[i,j,1], ω4)\n",
    "#         if rabi_matrix[i, j, 2] != 0:\n",
    "#             prefactor = (1)/np.sqrt(2)*sin(θ)\n",
    "#             ham.addCoupling(i, j, prefactor*Ω4*rabi_matrix[i,j,2], ω4)"
   ]
  },
  {
   "cell_type": "code",
   "execution_count": 7,
   "id": "5191d028",
   "metadata": {},
   "outputs": [],
   "source": [
    "ham.eqnTransform()\n",
    "ham.defineZero(Ee)\n",
    "ham.defineEnergyDetuning(E0, Ee, Δ, ω)\n",
    "\n",
    "# ham.eqnTransform()\n",
    "# ham.defineZero(Ee)\n",
    "# ham.defineEnergyDetuning(E0, Ee, Δ1, ω1)\n",
    "# ham.defineEnergyDetuning(E0-HFS12, Ee, Δ2, ω2)\n",
    "# ham.defineEnergyDetuning(E0+SR, Ee, Δ3, ω3)\n",
    "# ham.defineEnergyDetuning(E0+SR+HFS32, Ee, Δ4, ω4)"
   ]
  },
  {
   "cell_type": "code",
   "execution_count": 8,
   "id": "f1b403c1",
   "metadata": {},
   "outputs": [
    {
     "data": {
      "text/latex": [
       "$\\displaystyle \\left[\\begin{matrix}- B gg - 1.0 Δ & 0 & 0 & 0 & 0.166666666666666 Ω \\left(i Coskz + Sinkz\\right) & 0\\\\0 & - 1.0 Δ & 0 & 0.166666666666666 Ω \\left(- i Coskz + Sinkz\\right) & 0 & 0.166666666666666 Ω \\left(i Coskz + Sinkz\\right)\\\\0 & 0 & B gg - 1.0 Δ & 0 & 0.166666666666666 Ω \\left(- i Coskz + Sinkz\\right) & 0\\\\0 & 0.166666666666666 Ω \\left(i Coskz + Sinkz\\right) & 0 & - B ge & 0 & 0\\\\0.166666666666666 Ω \\left(- i Coskz + Sinkz\\right) & 0 & 0.166666666666666 Ω \\left(i Coskz + Sinkz\\right) & 0 & 0 & 0\\\\0 & 0.166666666666666 Ω \\left(- i Coskz + Sinkz\\right) & 0 & 0 & 0 & B ge\\end{matrix}\\right]$"
      ],
      "text/plain": [
       "Matrix([\n",
       "[                         -B*gg - 1.0*Δ,                                      0,                                     0,                                      0,  0.166666666666666*Ω*(I*Coskz + Sinkz),                                     0],\n",
       "[                                     0,                                 -1.0*Δ,                                     0, 0.166666666666666*Ω*(-I*Coskz + Sinkz),                                      0, 0.166666666666666*Ω*(I*Coskz + Sinkz)],\n",
       "[                                     0,                                      0,                          B*gg - 1.0*Δ,                                      0, 0.166666666666666*Ω*(-I*Coskz + Sinkz),                                     0],\n",
       "[                                     0,  0.166666666666666*Ω*(I*Coskz + Sinkz),                                     0,                                  -B*ge,                                      0,                                     0],\n",
       "[0.166666666666666*Ω*(-I*Coskz + Sinkz),                                      0, 0.166666666666666*Ω*(I*Coskz + Sinkz),                                      0,                                      0,                                     0],\n",
       "[                                     0, 0.166666666666666*Ω*(-I*Coskz + Sinkz),                                     0,                                      0,                                      0,                                  B*ge]])"
      ]
     },
     "execution_count": 8,
     "metadata": {},
     "output_type": "execute_result"
    }
   ],
   "source": [
    "ham.transformed"
   ]
  },
  {
   "cell_type": "code",
   "execution_count": 9,
   "id": "66e58bc4",
   "metadata": {},
   "outputs": [],
   "source": [
    "transition_strengths=np.zeros([ntotal,ntotal]);\n",
    "for i in range(ntotal):\n",
    "    for f in range(ntotal):\n",
    "        for p in range(3):\n",
    "            transition_strengths[i,f]=transition_strengths[i,f]+rabi_matrix[i,f,p]**2\n",
    "            \n",
    "BR = np.zeros([ntotal, ntotal])\n",
    "for i in range(ntotal):\n",
    "    sums=0\n",
    "    for f in range(ntotal):\n",
    "        sums=sums+transition_strengths[i,f]\n",
    "        \n",
    "    for f in range(ntotal):\n",
    "        BR[i,f]=transition_strengths[i,f]/sums\n",
    "        \n",
    "for i in range(nground):\n",
    "    BR[i,:]=0"
   ]
  },
  {
   "cell_type": "code",
   "execution_count": 10,
   "id": "b679011b",
   "metadata": {},
   "outputs": [
    {
     "data": {
      "text/plain": [
       "array([[0.5, 0.5, 0. , 0. , 0. , 0. ],\n",
       "       [0.5, 0. , 0.5, 0. , 0. , 0. ],\n",
       "       [0. , 0.5, 0.5, 0. , 0. , 0. ]])"
      ]
     },
     "execution_count": 10,
     "metadata": {},
     "output_type": "execute_result"
    }
   ],
   "source": [
    "BR[nground:,:]"
   ]
  },
  {
   "cell_type": "code",
   "execution_count": 11,
   "id": "737910db",
   "metadata": {},
   "outputs": [
    {
     "name": "stderr",
     "output_type": "stream",
     "text": [
      "100%|████████████████████████████████████████████████████████████████████████████████████| 3/3 [00:00<00:00,  3.33it/s]\n"
     ]
    }
   ],
   "source": [
    "Γ = Symbol(u'Γ', real = True)\n",
    "dis = Dissipator(ntotal)\n",
    "\n",
    "for exct in tqdm(range(nground, ntotal)):\n",
    "    for grnd in range(nground):\n",
    "        if BR[exct, grnd] != 0:\n",
    "            dis.addDecay(exct, grnd, Γ * BR[exct, grnd])"
   ]
  },
  {
   "cell_type": "code",
   "execution_count": 12,
   "id": "d329eed7",
   "metadata": {},
   "outputs": [
    {
     "data": {
      "text/latex": [
       "$\\displaystyle \\left[\\begin{matrix}0.5 Γ \\left(\\operatorname{ρ₃₃}{\\left(t \\right)} + \\operatorname{ρ₄₄}{\\left(t \\right)}\\right) & 0 & 0 & - 0.5 Γ \\operatorname{ρ₀₃}{\\left(t \\right)} & - 0.5 Γ \\operatorname{ρ₀₄}{\\left(t \\right)} & - 0.5 Γ \\operatorname{ρ₀₅}{\\left(t \\right)}\\\\0 & 0.5 Γ \\left(\\operatorname{ρ₃₃}{\\left(t \\right)} + \\operatorname{ρ₅₅}{\\left(t \\right)}\\right) & 0 & - 0.5 Γ \\operatorname{ρ₁₃}{\\left(t \\right)} & - 0.5 Γ \\operatorname{ρ₁₄}{\\left(t \\right)} & - 0.5 Γ \\operatorname{ρ₁₅}{\\left(t \\right)}\\\\0 & 0 & 0.5 Γ \\left(\\operatorname{ρ₄₄}{\\left(t \\right)} + \\operatorname{ρ₅₅}{\\left(t \\right)}\\right) & - 0.5 Γ \\operatorname{ρ₂₃}{\\left(t \\right)} & - 0.5 Γ \\operatorname{ρ₂₄}{\\left(t \\right)} & - 0.5 Γ \\operatorname{ρ₂₅}{\\left(t \\right)}\\\\- 0.5 Γ \\overline{\\operatorname{ρ₀₃}{\\left(t \\right)}} & - 0.5 Γ \\overline{\\operatorname{ρ₁₃}{\\left(t \\right)}} & - 0.5 Γ \\overline{\\operatorname{ρ₂₃}{\\left(t \\right)}} & - 1.0 Γ \\operatorname{ρ₃₃}{\\left(t \\right)} & - 1.0 Γ \\operatorname{ρ₃₄}{\\left(t \\right)} & - 1.0 Γ \\operatorname{ρ₃₅}{\\left(t \\right)}\\\\- 0.5 Γ \\overline{\\operatorname{ρ₀₄}{\\left(t \\right)}} & - 0.5 Γ \\overline{\\operatorname{ρ₁₄}{\\left(t \\right)}} & - 0.5 Γ \\overline{\\operatorname{ρ₂₄}{\\left(t \\right)}} & - 1.0 Γ \\overline{\\operatorname{ρ₃₄}{\\left(t \\right)}} & - 1.0 Γ \\operatorname{ρ₄₄}{\\left(t \\right)} & - 1.0 Γ \\operatorname{ρ₄₅}{\\left(t \\right)}\\\\- 0.5 Γ \\overline{\\operatorname{ρ₀₅}{\\left(t \\right)}} & - 0.5 Γ \\overline{\\operatorname{ρ₁₅}{\\left(t \\right)}} & - 0.5 Γ \\overline{\\operatorname{ρ₂₅}{\\left(t \\right)}} & - 1.0 Γ \\overline{\\operatorname{ρ₃₅}{\\left(t \\right)}} & - 1.0 Γ \\overline{\\operatorname{ρ₄₅}{\\left(t \\right)}} & - 1.0 Γ \\operatorname{ρ₅₅}{\\left(t \\right)}\\end{matrix}\\right]$"
      ],
      "text/plain": [
       "Matrix([\n",
       "[ 0.5*Γ*(ρ₃₃(t) + ρ₄₄(t)),                        0,                        0,            -0.5*Γ*ρ₀₃(t),            -0.5*Γ*ρ₀₄(t), -0.5*Γ*ρ₀₅(t)],\n",
       "[                       0,  0.5*Γ*(ρ₃₃(t) + ρ₅₅(t)),                        0,            -0.5*Γ*ρ₁₃(t),            -0.5*Γ*ρ₁₄(t), -0.5*Γ*ρ₁₅(t)],\n",
       "[                       0,                        0,  0.5*Γ*(ρ₄₄(t) + ρ₅₅(t)),            -0.5*Γ*ρ₂₃(t),            -0.5*Γ*ρ₂₄(t), -0.5*Γ*ρ₂₅(t)],\n",
       "[-0.5*Γ*conjugate(ρ₀₃(t)), -0.5*Γ*conjugate(ρ₁₃(t)), -0.5*Γ*conjugate(ρ₂₃(t)),            -1.0*Γ*ρ₃₃(t),            -1.0*Γ*ρ₃₄(t), -1.0*Γ*ρ₃₅(t)],\n",
       "[-0.5*Γ*conjugate(ρ₀₄(t)), -0.5*Γ*conjugate(ρ₁₄(t)), -0.5*Γ*conjugate(ρ₂₄(t)), -1.0*Γ*conjugate(ρ₃₄(t)),            -1.0*Γ*ρ₄₄(t), -1.0*Γ*ρ₄₅(t)],\n",
       "[-0.5*Γ*conjugate(ρ₀₅(t)), -0.5*Γ*conjugate(ρ₁₅(t)), -0.5*Γ*conjugate(ρ₂₅(t)), -1.0*Γ*conjugate(ρ₃₅(t)), -1.0*Γ*conjugate(ρ₄₅(t)), -1.0*Γ*ρ₅₅(t)]])"
      ]
     },
     "execution_count": 12,
     "metadata": {},
     "output_type": "execute_result"
    }
   ],
   "source": [
    "dis.dissipator"
   ]
  },
  {
   "cell_type": "code",
   "execution_count": 13,
   "id": "b0ccdd91",
   "metadata": {},
   "outputs": [
    {
     "name": "stdout",
     "output_type": "stream",
     "text": [
      "start generateEquations\n",
      "Wall time: 509 ms\n"
     ]
    }
   ],
   "source": [
    "%%time\n",
    "bloch = BlochEquations(ntotal, dis.density_matrix, ham.transformed, dis.dissipator)"
   ]
  },
  {
   "cell_type": "code",
   "execution_count": 14,
   "id": "9a01d396",
   "metadata": {},
   "outputs": [],
   "source": [
    "y0 = np.zeros([ntotal, ntotal], dtype = complex)\n",
    "for i in range(nground):\n",
    "    y0[i,i] = 1/nground\n",
    "y0 = y0.flatten()"
   ]
  },
  {
   "cell_type": "code",
   "execution_count": 15,
   "id": "01800fd6",
   "metadata": {},
   "outputs": [],
   "source": [
    "# Γ_val = 1\n",
    "# Δgroup = -2E-3\n",
    "# Ω1_val = 3*Γ_val\n",
    "# Ω2_val = 3*Γ_val\n",
    "# Ω3_val = 3*Γ_val\n",
    "# Ω4_val = 3*Γ_val\n",
    "# replacements = [(B, 1),\n",
    "#                 (HFSB, 3E-3),\n",
    "#                 (g_x12F1, -0.33*Bohr_mag),\n",
    "#                 (g_x32F1, 0.83*Bohr_mag),\n",
    "#                 (g_x32F2, 0.5*Bohr_mag),\n",
    "#                 (Δ1, Δgroup),\n",
    "#                 (Δ2, Δgroup),\n",
    "#                 (Δ3, Δgroup),\n",
    "#                 (Δ4, Δgroup),\n",
    "#                 (Ω1, Ω1_val),\n",
    "#                 (Ω2, Ω2_val),\n",
    "#                 (Ω3, Ω3_val),\n",
    "#                 (Ω4, Ω4_val),\n",
    "#                 (θ, 60/180*np.pi),\n",
    "#                 (Γ, Γ_val)]"
   ]
  },
  {
   "cell_type": "code",
   "execution_count": 16,
   "id": "e455ef90",
   "metadata": {},
   "outputs": [],
   "source": [
    "# %%time\n",
    "# sol = bloch.solveNumeric(replacements, [0,1000], y0, method = 'BDF')"
   ]
  },
  {
   "cell_type": "code",
   "execution_count": 17,
   "id": "ec473693",
   "metadata": {},
   "outputs": [],
   "source": [
    "# r = np.einsum(\"iij->ij\", sol.y.reshape(ntotal,ntotal,sol.t.size)).real\n",
    "\n",
    "# fig, ax = plt.subplots(figsize = (8,5))\n",
    "# for idx in range(ntotal):\n",
    "#     ax.plot(sol.t, r[idx], label = f\"ρ$_{{{idx},{idx}}}$\", lw = 2)\n",
    "\n",
    "# ax.legend(fontsize = 13)\n",
    "# ax.set_xlabel('time')\n",
    "# ax.set_ylabel('population')\n",
    "\n",
    "# set_fontsize(ax, 14)"
   ]
  },
  {
   "cell_type": "code",
   "execution_count": 18,
   "id": "ab818410",
   "metadata": {},
   "outputs": [
    {
     "data": {
      "text/plain": [
       "array([1, 2, 3, 4, 5, 6], dtype=int64)"
      ]
     },
     "execution_count": 18,
     "metadata": {},
     "output_type": "execute_result"
    }
   ],
   "source": [
    "from julia import Main\n",
    "\n",
    "nprocs = 6 # number of processes to use for EnsembleDistributed \n",
    "Main.eval(f\"\"\"\n",
    "using BenchmarkTools\n",
    "using Distributed\n",
    "\"\"\")\n",
    "\n",
    "if Main.eval(\"nprocs()\") < nprocs:\n",
    "    Main.eval(f\"addprocs({nprocs}-nprocs())\")\n",
    "\n",
    "if Main.eval(\"nprocs()\") > nprocs:\n",
    "    addprocs({nprocs})\n",
    "    procs = Main.eval(\"procs()\")\n",
    "    procs = procs[nprocs:]\n",
    "    Main.eval(f\"rmprocs({procs})\")\n",
    "\n",
    "Main.eval(\"\"\"\n",
    "@everywhere begin\n",
    "    using ModelingToolkit\n",
    "    using LinearAlgebra\n",
    "    using Trapz\n",
    "    using DifferentialEquations\n",
    "    using ModelingToolkit\n",
    "end\n",
    "\"\"\")\n",
    "\n",
    "    \n",
    "Main.eval(\"procs()\")"
   ]
  },
  {
   "cell_type": "code",
   "execution_count": 19,
   "id": "7691d4ad",
   "metadata": {},
   "outputs": [],
   "source": [
    "# Time_varying_symbols = 'Coskzm Coskzp'.split(' ')\n",
    "Time_varying_symbols = 'Coskz Sinkz'.split(' ')"
   ]
  },
  {
   "cell_type": "code",
   "execution_count": 20,
   "id": "3517b173",
   "metadata": {},
   "outputs": [
    {
     "name": "stdout",
     "output_type": "stream",
     "text": [
      "-B*gg - 1.0*Δ\n",
      "0\n",
      "0\n",
      "0\n",
      "0.166666666666666*Ω*(icomplex*Coskz + Sinkz)\n",
      "0\n",
      "0\n",
      "-1.0*Δ\n",
      "0\n",
      "0.166666666666666*Ω*(-icomplex*Coskz + Sinkz)\n",
      "0\n",
      "0.166666666666666*Ω*(icomplex*Coskz + Sinkz)\n",
      "0\n",
      "0\n",
      "B*gg - 1.0*Δ\n",
      "0\n",
      "0.166666666666666*Ω*(-icomplex*Coskz + Sinkz)\n",
      "0\n",
      "0\n",
      "0.166666666666666*Ω*(icomplex*Coskz + Sinkz)\n",
      "0\n",
      "-B*ge\n",
      "0\n",
      "0\n",
      "0.166666666666666*Ω*(-icomplex*Coskz + Sinkz)\n",
      "0\n",
      "0.166666666666666*Ω*(icomplex*Coskz + Sinkz)\n",
      "0\n",
      "0\n",
      "0\n",
      "0\n",
      "0.166666666666666*Ω*(-icomplex*Coskz + Sinkz)\n",
      "0\n",
      "0\n",
      "0\n",
      "B*ge\n"
     ]
    }
   ],
   "source": [
    "from sympy import MutableDenseMatrix, conjugate, Function, Symbol\n",
    "\n",
    "t = Symbol('t', real = True)\n",
    "\n",
    "hamiltonian_symbols = ham.transformed.free_symbols\n",
    "dissipator_symbols = dis.dissipator.free_symbols\n",
    "dissipator_symbols = [d for d in dissipator_symbols if str(d)[0] not in ['ρ', 't']]\n",
    "\n",
    "lx, ly = ham.transformed.shape\n",
    "Main.eval(f\"\"\"\n",
    "            @everywhere begin\n",
    "            H = zeros(Num, {lx}, {ly})\n",
    "            L = zeros(Num, {lx}, {ly})\n",
    "            @variables t ρ[1:{lx},1:{ly}](t)\n",
    "            @parameters icomplex, k, v\n",
    "            D = Differential(t)\n",
    "            tmp = 0\n",
    "            end\n",
    "            \"\"\");\n",
    "\n",
    "for s in list(hamiltonian_symbols) + list(dissipator_symbols):\n",
    "    if str(s) not in Time_varying_symbols:\n",
    "        Main.eval(f\"\"\"\n",
    "                    @everywhere @parameters {str(s)}\n",
    "                    tmp = 0\n",
    "                \"\"\");\n",
    "    else:\n",
    "        Main.eval(f\"@everywhere @variables {str(s)}(t)\")\n",
    "    \n",
    "\n",
    "# the code below is to transform the symbolic version of Sympy into a form usable with Julia\n",
    "diss = MutableDenseMatrix(dis.dissipator.copy())\n",
    "\n",
    "for i in range(lx):\n",
    "    for j in range(i,ly):\n",
    "        tmp = Function(u'ρ{0}{1}'.format(chr(0x2080+i), \n",
    "                                         chr(0x2080+j)))\n",
    "        tmp1 = Function(u'ρ[{0},{1}]'.format(j+1, i+1))\n",
    "        diss = diss.subs(conjugate(tmp(t)), tmp1(t))\n",
    "            \n",
    "for i in range(lx):\n",
    "    for j in range(i,ly):\n",
    "        tmp = Function(u'ρ{0}{1}'.format(chr(0x2080+i), \n",
    "                                         chr(0x2080+j)))\n",
    "        tmp1 = Function(u'ρ[{0},{1}]'.format(i+1, j+1))\n",
    "        diss = diss.subs(tmp(t), tmp1(t))\n",
    "\n",
    "\n",
    "# Creating the Hamiltonian matrix and Dissipator matrix in Julia\n",
    "for idx in range(1,lx+1):\n",
    "    for idy in range(1,ly+1):\n",
    "        hval = str(ham.transformed[idx-1,idy-1])\n",
    "        hval = hval.replace('I','icomplex')\n",
    "        print(hval)\n",
    "        dval = str(diss[idx-1, idy-1])\n",
    "        dval = dval.replace('(t)', '')\n",
    "        Main.eval(f\"\"\"\n",
    "                @everywhere begin\n",
    "                H[{idx},{idy}] = {hval}\n",
    "                L[{idx},{idy}] = {dval}\n",
    "                tmp = 0\n",
    "                end\n",
    "                \"\"\");"
   ]
  },
  {
   "cell_type": "code",
   "execution_count": 21,
   "id": "e8a15b06",
   "metadata": {},
   "outputs": [],
   "source": [
    "# Creating the system of equations\n",
    "Main.eval(\"\"\"\n",
    "@everywhere @parameters ϕ\"\"\")\n",
    "\n",
    "Main.eval(f\"\"\"\n",
    "@everywhere begin\n",
    "    eq = -icomplex*Symbolics.scalarize(H*ρ-ρ*H) + L\n",
    "    eqns = [D(ρ[idx,idy]) ~ eq[idx,idy] for idx in 1:{lx} for idy in 1:{ly}];\n",
    "    append!(eqns, [Coskz ~ cos(k*v*t)])\n",
    "    append!(eqns, [Sinkz ~ sin(k*v*t)])\n",
    "    @named bloch = ODESystem(eqns)\n",
    "    tmp = 0\n",
    "end\n",
    "\"\"\");"
   ]
  },
  {
   "cell_type": "code",
   "execution_count": 22,
   "id": "938a00d3",
   "metadata": {},
   "outputs": [],
   "source": [
    "Main.eval(\"@everywhere bloch = structural_simplify(bloch)\");"
   ]
  },
  {
   "cell_type": "code",
   "execution_count": 23,
   "id": "97935cb8",
   "metadata": {},
   "outputs": [],
   "source": [
    "# initial populations\n",
    "y0 = np.zeros([ham.levels, ham.levels], dtype = complex)\n",
    "for _ in range(ntotal):\n",
    "    y0[_,_] = 1/ntotal\n",
    "Main.ρ_ini = y0\n",
    "Main.eval(\"@everywhere ρ_ini = $ρ_ini\")"
   ]
  },
  {
   "cell_type": "code",
   "execution_count": 24,
   "id": "9f8b41fb",
   "metadata": {},
   "outputs": [
    {
     "name": "stdout",
     "output_type": "stream",
     "text": [
      "{Sinkz, Coskz, Ω, ge, B, gg, Δ} [Γ]\n"
     ]
    }
   ],
   "source": [
    "print(hamiltonian_symbols,dissipator_symbols)"
   ]
  },
  {
   "cell_type": "code",
   "execution_count": 25,
   "id": "4265baa2",
   "metadata": {},
   "outputs": [],
   "source": [
    "Main.eval(\"\"\"\n",
    "    @everywhere begin\n",
    "    Γ_val = 1\n",
    "    Δgroup = -2.5*Γ_val\n",
    "    Ω_val = 1.225*Γ_val\n",
    "    u0 = [ρ[idx,idy] => ρ_ini[idx,idy] for idx in 1:size(ρ_ini)[1] for idy in 1:size(ρ_ini)[1]]\n",
    "    tmp =0;\n",
    "end\n",
    "\"\"\");\n",
    "\n",
    "# Main.eval(\"\"\"\n",
    "#     @everywhere begin\n",
    "#     Γ_val = 1/33\n",
    "#     Bohr_mag=1.39962449/1000*2*pi\n",
    "#     Δgroup = 0E-3\n",
    "#     Ω1_val = 3*Γ_val\n",
    "#     Ω2_val = 3*Γ_val\n",
    "#     Ω3_val = 3*Γ_val\n",
    "#     Ω4_val = 3*Γ_val\n",
    "#     u0 = [ρ[idx,idy] => ρ_ini[idx,idy] for idx in 1:size(ρ_ini)[1] for idy in 1:size(ρ_ini)[1]]\n",
    "#     tmp =0;\n",
    "# end\n",
    "# \"\"\");"
   ]
  },
  {
   "cell_type": "code",
   "execution_count": 26,
   "id": "2031448d",
   "metadata": {},
   "outputs": [],
   "source": [
    "# setting up the parameters of the model and initial conditions\n",
    "#     ϕ => 0.785398,\n",
    "\n",
    "Main.eval(\"\"\"\n",
    "    @everywhere begin\n",
    "    p = [\n",
    "    B => 0,\n",
    "    Δ => Δgroup,\n",
    "    Ω => Ω_val,\n",
    "    gg => 1,\n",
    "    ge => 1,\n",
    "    Γ => Γ_val,\n",
    "    k => 1,\n",
    "    v => 1,\n",
    "    icomplex => im\n",
    "    ]\n",
    "    u0 = [ρ[idx,idy] => ρ_ini[idx,idy] for idx in 1:size(ρ_ini)[1] for idy in 1:size(ρ_ini)[1]]\n",
    "    tmp =0;\n",
    "end\n",
    "\"\"\");\n",
    "\n",
    "# Main.eval(\"\"\"\n",
    "#     @everywhere begin\n",
    "#     p = [\n",
    "#     θ => 30*pi/180,\n",
    "#     B => 3,\n",
    "#     Δ1 => Δgroup,\n",
    "#     Δ2 => Δgroup,\n",
    "#     Δ3 => Δgroup,\n",
    "#     Δ4 => Δgroup,\n",
    "#     Ω1 => Ω1_val,\n",
    "#     Ω2 => Ω2_val,\n",
    "#     Ω3 => Ω3_val,\n",
    "#     Ω4 => Ω4_val,\n",
    "#     g_x12F1 => -0.33*Bohr_mag,\n",
    "#     g_x32F1 => 0.83*Bohr_mag,\n",
    "#     g_x32F2 => 0.5*Bohr_mag,\n",
    "#     Γ => Γ_val,\n",
    "#     HFSB => 2E-3,\n",
    "#     icomplex => im\n",
    "#     ]\n",
    "#     u0 = [ρ[idx,idy] => ρ_ini[idx,idy] for idx in 1:size(ρ_ini)[1] for idy in 1:size(ρ_ini)[1]]\n",
    "#     tmp =0;\n",
    "# end\n",
    "# \"\"\");"
   ]
  },
  {
   "cell_type": "code",
   "execution_count": 27,
   "id": "82bf52f0",
   "metadata": {},
   "outputs": [],
   "source": [
    "# creating the problem to solve\n",
    "Main.eval(\"\"\"\n",
    "@everywhere begin\n",
    "    tspan = (0.0, 5000.)\n",
    "    prob = ODEProblem(bloch, ρ_ini, tspan, p, jac = true)\n",
    "end\n",
    "\"\"\");"
   ]
  },
  {
   "cell_type": "code",
   "execution_count": 28,
   "id": "7bf1bed0",
   "metadata": {},
   "outputs": [
    {
     "data": {
      "image/png": "[encoded data removed]",
      "text/plain": [
       "<Figure size 576x360 with 1 Axes>"
      ]
     },
     "metadata": {
      "needs_background": "light"
     },
     "output_type": "display_data"
    }
   ],
   "source": [
    "# solving the ODEProblem, keep in mind that the first run compiles called functions\n",
    "# the first run will be significantly slower (due to compilation), but any subsequent solves are fast\n",
    "Main.eval(\"@time sol = solve(prob, Tsit5(), abstol = 1e-10, reltol = 1e-10)\");\n",
    "ut = np.array(Main.eval(\"sol[:]\"))\n",
    "dim = int(np.sqrt(ut.shape[1]))\n",
    "pop_results = np.real(np.einsum('jji->ji',ut.reshape(-1,dim, dim).T))\n",
    "t_array = Main.eval(\"sol.t\") \n",
    "fig, ax = plt.subplots(figsize = (8,5))\n",
    "\n",
    "for idx, pop in enumerate(pop_results):\n",
    "    ax.plot(t_array, pop, lw = 2, label = f\"ρ$_{{{idx},{idx}}}$\")\n",
    "\n",
    "ax.set_xlabel('time')\n",
    "ax.set_ylabel('population')\n",
    "ax.legend(fontsize = 14)\n",
    "set_fontsize(ax, 14)"
   ]
  },
  {
   "cell_type": "code",
   "execution_count": 37,
   "id": "02ddf87c",
   "metadata": {},
   "outputs": [],
   "source": [
    "from sympy import diff"
   ]
  },
  {
   "cell_type": "code",
   "execution_count": 38,
   "id": "a51bb86e",
   "metadata": {},
   "outputs": [],
   "source": [
    "k = Symbol(u'k', real = True)"
   ]
  },
  {
   "cell_type": "code",
   "execution_count": 39,
   "id": "7f5996d6",
   "metadata": {},
   "outputs": [
    {
     "data": {
      "text/latex": [
       "$\\displaystyle \\left[\\begin{matrix}- B gg - 1.0 Δ & 0 & 0 & 0 & 0.166666666666666 Ω \\left(i Coskz + Sinkz\\right) & 0\\\\0 & - 1.0 Δ & 0 & 0.166666666666666 Ω \\left(- i Coskz + Sinkz\\right) & 0 & 0.166666666666666 Ω \\left(i Coskz + Sinkz\\right)\\\\0 & 0 & B gg - 1.0 Δ & 0 & 0.166666666666666 Ω \\left(- i Coskz + Sinkz\\right) & 0\\\\0 & 0.166666666666666 Ω \\left(i Coskz + Sinkz\\right) & 0 & - B ge & 0 & 0\\\\0.166666666666666 Ω \\left(- i Coskz + Sinkz\\right) & 0 & 0.166666666666666 Ω \\left(i Coskz + Sinkz\\right) & 0 & 0 & 0\\\\0 & 0.166666666666666 Ω \\left(- i Coskz + Sinkz\\right) & 0 & 0 & 0 & B ge\\end{matrix}\\right]$"
      ],
      "text/plain": [
       "Matrix([\n",
       "[                         -B*gg - 1.0*Δ,                                      0,                                     0,                                      0,  0.166666666666666*Ω*(I*Coskz + Sinkz),                                     0],\n",
       "[                                     0,                                 -1.0*Δ,                                     0, 0.166666666666666*Ω*(-I*Coskz + Sinkz),                                      0, 0.166666666666666*Ω*(I*Coskz + Sinkz)],\n",
       "[                                     0,                                      0,                          B*gg - 1.0*Δ,                                      0, 0.166666666666666*Ω*(-I*Coskz + Sinkz),                                     0],\n",
       "[                                     0,  0.166666666666666*Ω*(I*Coskz + Sinkz),                                     0,                                  -B*ge,                                      0,                                     0],\n",
       "[0.166666666666666*Ω*(-I*Coskz + Sinkz),                                      0, 0.166666666666666*Ω*(I*Coskz + Sinkz),                                      0,                                      0,                                     0],\n",
       "[                                     0, 0.166666666666666*Ω*(-I*Coskz + Sinkz),                                     0,                                      0,                                      0,                                  B*ge]])"
      ]
     },
     "execution_count": 39,
     "metadata": {},
     "output_type": "execute_result"
    }
   ],
   "source": [
    "ham.transformed"
   ]
  },
  {
   "cell_type": "code",
   "execution_count": 42,
   "id": "005d637f",
   "metadata": {},
   "outputs": [
    {
     "data": {
      "text/latex": [
       "$\\displaystyle \\left[\\begin{matrix}0 & 0 & 0 & 0 & 0.166666666666666 Coskz k Ω - 0.166666666666666 i Sinkz k Ω & 0\\\\0 & 0 & 0 & 0.166666666666666 Coskz k Ω + 0.166666666666666 i Sinkz k Ω & 0 & 0.166666666666666 Coskz k Ω - 0.166666666666666 i Sinkz k Ω\\\\0 & 0 & 0 & 0 & 0.166666666666666 Coskz k Ω + 0.166666666666666 i Sinkz k Ω & 0\\\\0 & 0.166666666666666 Coskz k Ω - 0.166666666666666 i Sinkz k Ω & 0 & 0 & 0 & 0\\\\0.166666666666666 Coskz k Ω + 0.166666666666666 i Sinkz k Ω & 0 & 0.166666666666666 Coskz k Ω - 0.166666666666666 i Sinkz k Ω & 0 & 0 & 0\\\\0 & 0.166666666666666 Coskz k Ω + 0.166666666666666 i Sinkz k Ω & 0 & 0 & 0 & 0\\end{matrix}\\right]$"
      ],
      "text/plain": [
       "Matrix([\n",
       "[                                                          0,                                                           0,                                                           0,                                                           0, 0.166666666666666*Coskz*k*Ω - 0.166666666666666*I*Sinkz*k*Ω,                                                           0],\n",
       "[                                                          0,                                                           0,                                                           0, 0.166666666666666*Coskz*k*Ω + 0.166666666666666*I*Sinkz*k*Ω,                                                           0, 0.166666666666666*Coskz*k*Ω - 0.166666666666666*I*Sinkz*k*Ω],\n",
       "[                                                          0,                                                           0,                                                           0,                                                           0, 0.166666666666666*Coskz*k*Ω + 0.166666666666666*I*Sinkz*k*Ω,                                                           0],\n",
       "[                                                          0, 0.166666666666666*Coskz*k*Ω - 0.166666666666666*I*Sinkz*k*Ω,                                                           0,                                                           0,                                                           0,                                                           0],\n",
       "[0.166666666666666*Coskz*k*Ω + 0.166666666666666*I*Sinkz*k*Ω,                                                           0, 0.166666666666666*Coskz*k*Ω - 0.166666666666666*I*Sinkz*k*Ω,                                                           0,                                                           0,                                                           0],\n",
       "[                                                          0, 0.166666666666666*Coskz*k*Ω + 0.166666666666666*I*Sinkz*k*Ω,                                                           0,                                                           0,                                                           0,                                                           0]])"
      ]
     },
     "execution_count": 42,
     "metadata": {},
     "output_type": "execute_result"
    }
   ],
   "source": [
    "DH = diff(ham.transformed,Coskz)*(-k*Sinkz) + diff(ham.transformed,Sinkz)*(k*Coskz)\n",
    "DH"
   ]
  },
  {
   "cell_type": "code",
   "execution_count": 43,
   "id": "fc558b00",
   "metadata": {},
   "outputs": [
    {
     "name": "stdout",
     "output_type": "stream",
     "text": [
      "0\n",
      "0\n",
      "0\n",
      "0\n",
      "0.166666666666666*Coskz*k*Ω - 0.166666666666666*icomplex*Sinkz*k*Ω\n",
      "0\n",
      "0\n",
      "0\n",
      "0\n",
      "0.166666666666666*Coskz*k*Ω + 0.166666666666666*icomplex*Sinkz*k*Ω\n",
      "0\n",
      "0.166666666666666*Coskz*k*Ω - 0.166666666666666*icomplex*Sinkz*k*Ω\n",
      "0\n",
      "0\n",
      "0\n",
      "0\n",
      "0.166666666666666*Coskz*k*Ω + 0.166666666666666*icomplex*Sinkz*k*Ω\n",
      "0\n",
      "0\n",
      "0.166666666666666*Coskz*k*Ω - 0.166666666666666*icomplex*Sinkz*k*Ω\n",
      "0\n",
      "0\n",
      "0\n",
      "0\n",
      "0.166666666666666*Coskz*k*Ω + 0.166666666666666*icomplex*Sinkz*k*Ω\n",
      "0\n",
      "0.166666666666666*Coskz*k*Ω - 0.166666666666666*icomplex*Sinkz*k*Ω\n",
      "0\n",
      "0\n",
      "0\n",
      "0\n",
      "0.166666666666666*Coskz*k*Ω + 0.166666666666666*icomplex*Sinkz*k*Ω\n",
      "0\n",
      "0\n",
      "0\n",
      "0\n"
     ]
    }
   ],
   "source": [
    "Main.eval(f\"\"\"\n",
    "            @everywhere begin\n",
    "            DH = zeros(Num, {lx}, {ly})\n",
    "            tmp = 0\n",
    "            end\n",
    "            \"\"\");\n",
    "\n",
    "\n",
    "# Creating the Hamiltonian matrix and Dissipator matrix in Julia\n",
    "for idx in range(1,lx+1):\n",
    "    for idy in range(1,ly+1):\n",
    "        hval = str(DH[idx-1,idy-1])\n",
    "        hval = hval.replace('I','icomplex')\n",
    "        print(hval)\n",
    "        Main.eval(f\"\"\"\n",
    "                @everywhere begin\n",
    "                DH[{idx},{idy}] = {hval}\n",
    "                tmp = 0\n",
    "                end\n",
    "                \"\"\");"
   ]
  },
  {
   "cell_type": "code",
   "execution_count": 46,
   "id": "7cb186f4",
   "metadata": {},
   "outputs": [],
   "source": [
    "# creating the parameter space to scan\n",
    "varlist = np.linspace(0,4,5)\n",
    "params = varlist\n",
    "\n",
    "Main.params = params\n",
    "Main.eval(\"@everywhere params = $params\")"
   ]
  },
  {
   "cell_type": "code",
   "execution_count": 47,
   "id": "6662e943",
   "metadata": {},
   "outputs": [],
   "source": [
    "Main.eval(\"\"\"\n",
    "@everywhere function prob_func(prob,i,repeat)\n",
    "    Γ_val = 1\n",
    "    Δgroup = -2.5*Γ_val\n",
    "    Ω_val = 1.225*Γ_val\n",
    "    pnew = ModelingToolkit.varmap_to_vars([\n",
    "        B => 0,\n",
    "        Δ => Δgroup,\n",
    "        Ω => Ω_val,\n",
    "        gg => 1,\n",
    "        ge => 1,\n",
    "        Γ => Γ_val,\n",
    "        k => 1,\n",
    "        v => params[i],\n",
    "        icomplex => im\n",
    "        ], parameters(bloch))\n",
    "   remake(prob, p = pnew)\n",
    "end\n",
    "\"\"\")"
   ]
  },
  {
   "cell_type": "code",
   "execution_count": 48,
   "id": "0201ef8d",
   "metadata": {},
   "outputs": [],
   "source": [
    "Main.eval(\"\"\"\n",
    "@everywhere function output_func(sol,i)\n",
    "        return DH\n",
    "       end\n",
    "\"\"\")\n",
    "Main.eval(\"ens_prob = EnsembleProblem(prob, prob_func = prob_func, output_func = output_func)\");\n",
    "#            return trapz(sol.t, [real(sol.u[j][1+(13-1)*17])+real(sol.u[j][1+(14-1)*17])+real(sol.u[j][1+(15-1)*17])+real(sol.u[j][1+(16-1)*17]) for j in 1:size(sol.u)[1]]), false\n"
   ]
  },
  {
   "cell_type": "code",
   "execution_count": 49,
   "id": "66727ebb",
   "metadata": {},
   "outputs": [
    {
     "data": {
      "text/plain": [
       "28.3213896"
      ]
     },
     "execution_count": 49,
     "metadata": {},
     "output_type": "execute_result"
    }
   ],
   "source": [
    "# solve the EnsembleProblem\n",
    "# EnsembleDistributed() is the parallel solver method. See DifferentialEquations.jl for more options.\n",
    "Main.eval(\"\"\"\n",
    "@time sim = solve(ens_prob, Tsit5(), EnsembleDistributed(), save_start = true, save_end = true,\n",
    "                   save_everystep = true; trajectories = size(params)[1], adaptive=true, \n",
    "                   abstol = 1e-9, reltol =1e-6)\n",
    "sim.elapsedTime\n",
    "\"\"\")"
   ]
  },
  {
   "cell_type": "code",
   "execution_count": null,
   "id": "6ae517b7",
   "metadata": {},
   "outputs": [],
   "source": [
    "fig, ax = plt.subplots(figsize = (10,8))\n",
    "\n",
    "tcf = ax.tricontourf(params[:,0]*180/np.pi, params[:,1], np.array(Main.eval(\"sim.u\"))/15000)\n",
    "\n",
    "cbar = fig.colorbar(tcf)\n",
    "\n",
    "ax.set_xlabel('θ')\n",
    "ax.set_ylabel('B')\n",
    "cbar.ax.set_ylabel('excited state population')\n",
    "# ax.set_yscale('log')\n",
    "\n",
    "set_fontsize(ax, 14)\n",
    "set_fontsize(cbar.ax, 14)"
   ]
  },
  {
   "cell_type": "code",
   "execution_count": null,
   "id": "19711617",
   "metadata": {},
   "outputs": [],
   "source": []
  },
  {
   "cell_type": "code",
   "execution_count": null,
   "id": "511181aa",
   "metadata": {},
   "outputs": [],
   "source": []
  }
 ],
 "metadata": {
  "kernelspec": {
   "display_name": "Python 3 (ipykernel)",
   "language": "python",
   "name": "python3"
  },
  "language_info": {
   "codemirror_mode": {
    "name": "ipython",
    "version": 3
   },
   "file_extension": ".py",
   "mimetype": "text/x-python",
   "name": "python",
   "nbconvert_exporter": "python",
   "pygments_lexer": "ipython3",
   "version": "3.7.4"
  }
 },
 "nbformat": 4,
 "nbformat_minor": 5
}
