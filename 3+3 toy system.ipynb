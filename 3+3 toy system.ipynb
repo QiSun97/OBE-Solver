{
 "cells": [
  {
   "cell_type": "code",
   "execution_count": 2,
   "id": "fbd0db31",
   "metadata": {},
   "outputs": [],
   "source": [
    "import sys\n",
    "sys.path.append(\"..\")\n",
    "\n",
    "import pickle\n",
    "import time\n",
    "import pprint\n",
    "import numpy as np\n",
    "from tqdm import tqdm\n",
    "import multiprocessing\n",
    "from sympy import Symbol, sin, cos, tan, nsimplify\n",
    "import matplotlib.pyplot as plt\n",
    "from utils.plot_utils import set_fontsize\n",
    "# from optical_bloch.utils.general import flatten\n",
    "# from optical_bloch import Hamiltonian, Dissipator, BlochEquations\n",
    "from optical_bloch_test.utils.general import flatten\n",
    "from optical_bloch_test import Hamiltonian, Dissipator, BlochEquations\n",
    "from multi_helper_funcs import multi_solve_ode, multi_solve_ode_integrate_excited\n",
    "\n",
    "from julia import Main\n",
    "from sympy import MutableDenseMatrix, conjugate, Function, Symbol"
   ]
  },
  {
   "cell_type": "code",
   "execution_count": 3,
   "id": "d053d2da",
   "metadata": {},
   "outputs": [],
   "source": [
    "hbar=1.054*1E-34; #[Js]\n",
    "k_b=1.381*1E-23; #[J/K]\n",
    "c=299792000; #[m/s]\n",
    "eps_0=8.854*1E-12; #[F/m]\n",
    "a0=5.29*1E-11; #[m]\n",
    "q_e=1.602*1E-19; #[C]\n",
    "Bohr_mag=1.39962449/1000*2*np.pi; #[GHz/G]\n",
    "\n",
    "nground = 3\n",
    "nexcite = 3\n",
    "ntotal = 6"
   ]
  },
  {
   "cell_type": "code",
   "execution_count": 4,
   "id": "748a14d9",
   "metadata": {},
   "outputs": [],
   "source": [
    "rabi_matrix = np.zeros([ntotal,ntotal,3])\n",
    "rabi_matrix[:,:,0] = np.genfromtxt('rabimatrix33toy1.csv',delimiter=',')\n",
    "rabi_matrix[:,:,1] = np.genfromtxt('rabimatrix33toy2.csv',delimiter=',')\n",
    "rabi_matrix[:,:,2] = np.genfromtxt('rabimatrix33toy3.csv',delimiter=',')"
   ]
  },
  {
   "cell_type": "code",
   "execution_count": 5,
   "id": "22b9dc38",
   "metadata": {},
   "outputs": [],
   "source": [
    "E0 = Symbol(u'E0', real = True)\n",
    "Ee = Symbol(u'Ee', real = True)\n",
    "\n",
    "ω = Symbol(u'ω', real = True)\n",
    "Ω = Symbol(u'Ω', real = True)\n",
    "Δ = Symbol(u'Δ', real = True)\n",
    "g = Symbol(u'g', real = True)\n",
    "\n",
    "θ = Symbol(u'θ', real = True)\n",
    "B = Symbol(u'B', real = True)"
   ]
  },
  {
   "cell_type": "code",
   "execution_count": 6,
   "id": "83395d69",
   "metadata": {},
   "outputs": [],
   "source": [
    "ham = Hamiltonian(ntotal)\n",
    "ham.addEnergies([E0-g*B,E0,E0+g*B,\n",
    "                 Ee,Ee,Ee])\n",
    "# ham.addEnergies([E0-2*g*B,E0-g*B,E0,E0+g*B, E0+2*g*B,\n",
    "#                  Ee-g*B,Ee,Ee+g*B])"
   ]
  },
  {
   "cell_type": "code",
   "execution_count": 7,
   "id": "ad4afd7f",
   "metadata": {},
   "outputs": [],
   "source": [
    "for i in range(nground):\n",
    "    for j in range(nground, ntotal):\n",
    "        if rabi_matrix[i, j, 0] != 0:\n",
    "            prefactor = (-1)/np.sqrt(2)*sin(θ)\n",
    "            ham.addCoupling(i, j, prefactor*Ω*rabi_matrix[i,j,0], ω)\n",
    "        if rabi_matrix[i, j, 1] != 0:\n",
    "            prefactor = (1)*cos(θ)\n",
    "            ham.addCoupling(i, j, prefactor*Ω*rabi_matrix[i,j,1], ω)\n",
    "        if rabi_matrix[i, j, 2] != 0:\n",
    "            prefactor = (1)/np.sqrt(2)*sin(θ)\n",
    "            ham.addCoupling(i, j, prefactor*Ω*rabi_matrix[i,j,2], ω)"
   ]
  },
  {
   "cell_type": "code",
   "execution_count": 8,
   "id": "7314a26f",
   "metadata": {},
   "outputs": [],
   "source": [
    "ham.eqnTransform()\n",
    "ham.defineZero(Ee)\n",
    "ham.defineEnergyDetuning(E0, Ee, Δ, ω)"
   ]
  },
  {
   "cell_type": "code",
   "execution_count": 9,
   "id": "7a1ca733",
   "metadata": {},
   "outputs": [
    {
     "data": {
      "text/latex": [
       "$\\displaystyle \\left[\\begin{matrix}- B g - 1.0 Δ & 0 & 0 & - 0.166666666666666 Ω \\cos{\\left(θ \\right)} & - 0.117851130197758 Ω \\sin{\\left(θ \\right)} & 0\\\\0 & - 1.0 Δ & 0 & - 0.117851130197758 Ω \\sin{\\left(θ \\right)} & 0 & - 0.117851130197758 Ω \\sin{\\left(θ \\right)}\\\\0 & 0 & B g - 1.0 Δ & 0 & - 0.117851130197758 Ω \\sin{\\left(θ \\right)} & 0.166666666666666 Ω \\cos{\\left(θ \\right)}\\\\- 0.166666666666666 Ω \\cos{\\left(θ \\right)} & - 0.117851130197758 Ω \\sin{\\left(θ \\right)} & 0 & 0 & 0 & 0\\\\- 0.117851130197758 Ω \\sin{\\left(θ \\right)} & 0 & - 0.117851130197758 Ω \\sin{\\left(θ \\right)} & 0 & 0 & 0\\\\0 & - 0.117851130197758 Ω \\sin{\\left(θ \\right)} & 0.166666666666666 Ω \\cos{\\left(θ \\right)} & 0 & 0 & 0\\end{matrix}\\right]$"
      ],
      "text/plain": [
       "Matrix([\n",
       "[               -B*g - 1.0*Δ,                           0,                           0, -0.166666666666666*Ω*cos(θ), -0.117851130197758*Ω*sin(θ),                           0],\n",
       "[                          0,                      -1.0*Δ,                           0, -0.117851130197758*Ω*sin(θ),                           0, -0.117851130197758*Ω*sin(θ)],\n",
       "[                          0,                           0,                 B*g - 1.0*Δ,                           0, -0.117851130197758*Ω*sin(θ),  0.166666666666666*Ω*cos(θ)],\n",
       "[-0.166666666666666*Ω*cos(θ), -0.117851130197758*Ω*sin(θ),                           0,                           0,                           0,                           0],\n",
       "[-0.117851130197758*Ω*sin(θ),                           0, -0.117851130197758*Ω*sin(θ),                           0,                           0,                           0],\n",
       "[                          0, -0.117851130197758*Ω*sin(θ),  0.166666666666666*Ω*cos(θ),                           0,                           0,                           0]])"
      ]
     },
     "execution_count": 9,
     "metadata": {},
     "output_type": "execute_result"
    }
   ],
   "source": [
    "ham.transformed"
   ]
  },
  {
   "cell_type": "code",
   "execution_count": 10,
   "id": "8c53f126",
   "metadata": {},
   "outputs": [
    {
     "data": {
      "text/latex": [
       "$\\displaystyle \\left[\\begin{matrix}- B g + E_{0} & 0 & 0 & - 0.166666666666666 Ω e^{1.0 i t ω} \\cos{\\left(θ \\right)} & - 0.117851130197758 Ω e^{1.0 i t ω} \\sin{\\left(θ \\right)} & 0\\\\0 & E_{0} & 0 & - 0.117851130197758 Ω e^{1.0 i t ω} \\sin{\\left(θ \\right)} & 0 & - 0.117851130197758 Ω e^{1.0 i t ω} \\sin{\\left(θ \\right)}\\\\0 & 0 & B g + E_{0} & 0 & - 0.117851130197758 Ω e^{1.0 i t ω} \\sin{\\left(θ \\right)} & 0.166666666666666 Ω e^{1.0 i t ω} \\cos{\\left(θ \\right)}\\\\- 0.166666666666666 Ω e^{- 1.0 i t ω} \\cos{\\left(θ \\right)} & - 0.117851130197758 Ω e^{- 1.0 i t ω} \\sin{\\left(θ \\right)} & 0 & Ee & 0 & 0\\\\- 0.117851130197758 Ω e^{- 1.0 i t ω} \\sin{\\left(θ \\right)} & 0 & - 0.117851130197758 Ω e^{- 1.0 i t ω} \\sin{\\left(θ \\right)} & 0 & Ee & 0\\\\0 & - 0.117851130197758 Ω e^{- 1.0 i t ω} \\sin{\\left(θ \\right)} & 0.166666666666666 Ω e^{- 1.0 i t ω} \\cos{\\left(θ \\right)} & 0 & 0 & Ee\\end{matrix}\\right]$"
      ],
      "text/plain": [
       "Matrix([\n",
       "[                                  -B*g + E0,                                           0,                                           0, -0.166666666666666*Ω*exp(1.0*I*t*ω)*cos(θ), -0.117851130197758*Ω*exp(1.0*I*t*ω)*sin(θ),                                          0],\n",
       "[                                          0,                                          E0,                                           0, -0.117851130197758*Ω*exp(1.0*I*t*ω)*sin(θ),                                          0, -0.117851130197758*Ω*exp(1.0*I*t*ω)*sin(θ)],\n",
       "[                                          0,                                           0,                                    B*g + E0,                                          0, -0.117851130197758*Ω*exp(1.0*I*t*ω)*sin(θ),  0.166666666666666*Ω*exp(1.0*I*t*ω)*cos(θ)],\n",
       "[-0.166666666666666*Ω*exp(-1.0*I*t*ω)*cos(θ), -0.117851130197758*Ω*exp(-1.0*I*t*ω)*sin(θ),                                           0,                                         Ee,                                          0,                                          0],\n",
       "[-0.117851130197758*Ω*exp(-1.0*I*t*ω)*sin(θ),                                           0, -0.117851130197758*Ω*exp(-1.0*I*t*ω)*sin(θ),                                          0,                                         Ee,                                          0],\n",
       "[                                          0, -0.117851130197758*Ω*exp(-1.0*I*t*ω)*sin(θ),  0.166666666666666*Ω*exp(-1.0*I*t*ω)*cos(θ),                                          0,                                          0,                                         Ee]])"
      ]
     },
     "execution_count": 10,
     "metadata": {},
     "output_type": "execute_result"
    }
   ],
   "source": [
    "ham.hamiltonian"
   ]
  },
  {
   "cell_type": "code",
   "execution_count": 11,
   "id": "51c7d1e5",
   "metadata": {},
   "outputs": [],
   "source": [
    "transition_strengths=np.zeros([ntotal,ntotal]);\n",
    "for i in range(ntotal):\n",
    "    for f in range(ntotal):\n",
    "        for p in range(3):\n",
    "            transition_strengths[i,f]=transition_strengths[i,f]+rabi_matrix[i,f,p]**2"
   ]
  },
  {
   "cell_type": "code",
   "execution_count": 12,
   "id": "9e916ccd",
   "metadata": {},
   "outputs": [],
   "source": [
    "BR = np.zeros([ntotal, ntotal])\n",
    "for i in range(ntotal):\n",
    "    sums=0\n",
    "    for f in range(ntotal):\n",
    "        sums=sums+transition_strengths[i,f]\n",
    "        \n",
    "    for f in range(ntotal):\n",
    "        BR[i,f]=transition_strengths[i,f]/sums\n",
    "        \n",
    "for i in range(nground):\n",
    "    BR[i,:]=0"
   ]
  },
  {
   "cell_type": "code",
   "execution_count": 13,
   "id": "78b86ebd",
   "metadata": {},
   "outputs": [
    {
     "data": {
      "text/plain": [
       "array([[0.5, 0.5, 0. , 0. , 0. , 0. ],\n",
       "       [0.5, 0. , 0.5, 0. , 0. , 0. ],\n",
       "       [0. , 0.5, 0.5, 0. , 0. , 0. ]])"
      ]
     },
     "execution_count": 13,
     "metadata": {},
     "output_type": "execute_result"
    }
   ],
   "source": [
    "BR[nground:,:]"
   ]
  },
  {
   "cell_type": "code",
   "execution_count": 14,
   "id": "a9a50900",
   "metadata": {},
   "outputs": [
    {
     "name": "stderr",
     "output_type": "stream",
     "text": [
      "100%|████████████████████████████████████████████████████████████████████████████████████| 3/3 [00:00<00:00,  3.49it/s]\n"
     ]
    }
   ],
   "source": [
    "Γ = Symbol(u'Γ', real = True)\n",
    "dis = Dissipator(ntotal)\n",
    "\n",
    "for exct in tqdm(range(nground, ntotal)):\n",
    "    for grnd in range(nground):\n",
    "        if BR[exct, grnd] != 0:\n",
    "            dis.addDecay(exct, grnd, Γ * BR[exct, grnd])"
   ]
  },
  {
   "cell_type": "code",
   "execution_count": 15,
   "id": "84661bc1",
   "metadata": {},
   "outputs": [
    {
     "data": {
      "text/latex": [
       "$\\displaystyle \\left[\\begin{matrix}0.5 Γ \\left(\\operatorname{ρ₃₃}{\\left(t \\right)} + \\operatorname{ρ₄₄}{\\left(t \\right)}\\right) & 0 & 0 & - 0.5 Γ \\operatorname{ρ₀₃}{\\left(t \\right)} & - 0.5 Γ \\operatorname{ρ₀₄}{\\left(t \\right)} & - 0.5 Γ \\operatorname{ρ₀₅}{\\left(t \\right)}\\\\0 & 0.5 Γ \\left(\\operatorname{ρ₃₃}{\\left(t \\right)} + \\operatorname{ρ₅₅}{\\left(t \\right)}\\right) & 0 & - 0.5 Γ \\operatorname{ρ₁₃}{\\left(t \\right)} & - 0.5 Γ \\operatorname{ρ₁₄}{\\left(t \\right)} & - 0.5 Γ \\operatorname{ρ₁₅}{\\left(t \\right)}\\\\0 & 0 & 0.5 Γ \\left(\\operatorname{ρ₄₄}{\\left(t \\right)} + \\operatorname{ρ₅₅}{\\left(t \\right)}\\right) & - 0.5 Γ \\operatorname{ρ₂₃}{\\left(t \\right)} & - 0.5 Γ \\operatorname{ρ₂₄}{\\left(t \\right)} & - 0.5 Γ \\operatorname{ρ₂₅}{\\left(t \\right)}\\\\- 0.5 Γ \\overline{\\operatorname{ρ₀₃}{\\left(t \\right)}} & - 0.5 Γ \\overline{\\operatorname{ρ₁₃}{\\left(t \\right)}} & - 0.5 Γ \\overline{\\operatorname{ρ₂₃}{\\left(t \\right)}} & - 1.0 Γ \\operatorname{ρ₃₃}{\\left(t \\right)} & - 1.0 Γ \\operatorname{ρ₃₄}{\\left(t \\right)} & - 1.0 Γ \\operatorname{ρ₃₅}{\\left(t \\right)}\\\\- 0.5 Γ \\overline{\\operatorname{ρ₀₄}{\\left(t \\right)}} & - 0.5 Γ \\overline{\\operatorname{ρ₁₄}{\\left(t \\right)}} & - 0.5 Γ \\overline{\\operatorname{ρ₂₄}{\\left(t \\right)}} & - 1.0 Γ \\overline{\\operatorname{ρ₃₄}{\\left(t \\right)}} & - 1.0 Γ \\operatorname{ρ₄₄}{\\left(t \\right)} & - 1.0 Γ \\operatorname{ρ₄₅}{\\left(t \\right)}\\\\- 0.5 Γ \\overline{\\operatorname{ρ₀₅}{\\left(t \\right)}} & - 0.5 Γ \\overline{\\operatorname{ρ₁₅}{\\left(t \\right)}} & - 0.5 Γ \\overline{\\operatorname{ρ₂₅}{\\left(t \\right)}} & - 1.0 Γ \\overline{\\operatorname{ρ₃₅}{\\left(t \\right)}} & - 1.0 Γ \\overline{\\operatorname{ρ₄₅}{\\left(t \\right)}} & - 1.0 Γ \\operatorname{ρ₅₅}{\\left(t \\right)}\\end{matrix}\\right]$"
      ],
      "text/plain": [
       "Matrix([\n",
       "[ 0.5*Γ*(ρ₃₃(t) + ρ₄₄(t)),                        0,                        0,            -0.5*Γ*ρ₀₃(t),            -0.5*Γ*ρ₀₄(t), -0.5*Γ*ρ₀₅(t)],\n",
       "[                       0,  0.5*Γ*(ρ₃₃(t) + ρ₅₅(t)),                        0,            -0.5*Γ*ρ₁₃(t),            -0.5*Γ*ρ₁₄(t), -0.5*Γ*ρ₁₅(t)],\n",
       "[                       0,                        0,  0.5*Γ*(ρ₄₄(t) + ρ₅₅(t)),            -0.5*Γ*ρ₂₃(t),            -0.5*Γ*ρ₂₄(t), -0.5*Γ*ρ₂₅(t)],\n",
       "[-0.5*Γ*conjugate(ρ₀₃(t)), -0.5*Γ*conjugate(ρ₁₃(t)), -0.5*Γ*conjugate(ρ₂₃(t)),            -1.0*Γ*ρ₃₃(t),            -1.0*Γ*ρ₃₄(t), -1.0*Γ*ρ₃₅(t)],\n",
       "[-0.5*Γ*conjugate(ρ₀₄(t)), -0.5*Γ*conjugate(ρ₁₄(t)), -0.5*Γ*conjugate(ρ₂₄(t)), -1.0*Γ*conjugate(ρ₃₄(t)),            -1.0*Γ*ρ₄₄(t), -1.0*Γ*ρ₄₅(t)],\n",
       "[-0.5*Γ*conjugate(ρ₀₅(t)), -0.5*Γ*conjugate(ρ₁₅(t)), -0.5*Γ*conjugate(ρ₂₅(t)), -1.0*Γ*conjugate(ρ₃₅(t)), -1.0*Γ*conjugate(ρ₄₅(t)), -1.0*Γ*ρ₅₅(t)]])"
      ]
     },
     "execution_count": 15,
     "metadata": {},
     "output_type": "execute_result"
    }
   ],
   "source": [
    "dis.dissipator"
   ]
  },
  {
   "cell_type": "code",
   "execution_count": 16,
   "id": "7f021da9",
   "metadata": {},
   "outputs": [
    {
     "name": "stdout",
     "output_type": "stream",
     "text": [
      "start generateEquations\n",
      "Wall time: 532 ms\n"
     ]
    }
   ],
   "source": [
    "%%time\n",
    "bloch = BlochEquations(ntotal, dis.density_matrix, ham.transformed, dis.dissipator)"
   ]
  },
  {
   "cell_type": "code",
   "execution_count": null,
   "id": "188516c8",
   "metadata": {},
   "outputs": [],
   "source": []
  },
  {
   "cell_type": "code",
   "execution_count": 17,
   "id": "84fc00e0",
   "metadata": {},
   "outputs": [
    {
     "ename": "AttributeError",
     "evalue": "'BlochEquations' object has no attribute 'equations_steady_state'",
     "output_type": "error",
     "traceback": [
      "\u001b[1;31m---------------------------------------------------------------------------\u001b[0m",
      "\u001b[1;31mAttributeError\u001b[0m                            Traceback (most recent call last)",
      "\u001b[1;32m~\\AppData\\Local\\Temp/ipykernel_22572/3475694313.py\u001b[0m in \u001b[0;36m<module>\u001b[1;34m\u001b[0m\n\u001b[0;32m      7\u001b[0m \u001b[0mvarlist2\u001b[0m \u001b[1;33m=\u001b[0m \u001b[1;36m10\u001b[0m\u001b[1;33m**\u001b[0m\u001b[0mnp\u001b[0m\u001b[1;33m.\u001b[0m\u001b[0mlinspace\u001b[0m\u001b[1;33m(\u001b[0m\u001b[1;33m-\u001b[0m\u001b[1;36m3\u001b[0m\u001b[1;33m,\u001b[0m\u001b[1;36m1\u001b[0m\u001b[1;33m,\u001b[0m\u001b[1;36m100\u001b[0m\u001b[1;33m)\u001b[0m\u001b[1;33m\u001b[0m\u001b[1;33m\u001b[0m\u001b[0m\n\u001b[0;32m      8\u001b[0m \u001b[1;31m# np.linspace(0.001,5,100)\u001b[0m\u001b[1;33m\u001b[0m\u001b[1;33m\u001b[0m\u001b[1;33m\u001b[0m\u001b[0m\n\u001b[1;32m----> 9\u001b[1;33m \u001b[0msol\u001b[0m \u001b[1;33m=\u001b[0m \u001b[0mbloch\u001b[0m\u001b[1;33m.\u001b[0m\u001b[0msolveSteadyStateNumeric\u001b[0m\u001b[1;33m(\u001b[0m\u001b[0mreplacements\u001b[0m \u001b[1;33m=\u001b[0m \u001b[0mreplacements\u001b[0m\u001b[1;33m,\u001b[0m \u001b[0mparameters_scan\u001b[0m \u001b[1;33m=\u001b[0m \u001b[1;33m[\u001b[0m\u001b[0mθ\u001b[0m\u001b[1;33m,\u001b[0m \u001b[0mB\u001b[0m\u001b[1;33m]\u001b[0m\u001b[1;33m,\u001b[0m \u001b[0mscan_ranges\u001b[0m \u001b[1;33m=\u001b[0m \u001b[1;33m[\u001b[0m\u001b[0mvarlist1\u001b[0m\u001b[1;33m,\u001b[0m \u001b[0mvarlist2\u001b[0m\u001b[1;33m]\u001b[0m\u001b[1;33m)\u001b[0m\u001b[1;33m\u001b[0m\u001b[1;33m\u001b[0m\u001b[0m\n\u001b[0m",
      "\u001b[1;32mG:\\.shortcut-targets-by-id\\1-2vRammo3jyrlfxvIbMxCyEp3Doyq8Bn\\CryoMolEx\\Simulations\\CaH OBE solver\\github_Julia_version\\optical_bloch_test\\bloch_equations.py\u001b[0m in \u001b[0;36msolveSteadyStateNumeric\u001b[1;34m(self, replacements, parameters_scan, scan_ranges)\u001b[0m\n\u001b[0;32m    217\u001b[0m                             \u001b[1;32mfor\u001b[0m\u001b[1;33m\u001b[0m\u001b[1;33m\u001b[0m\u001b[0m\n\u001b[0;32m    218\u001b[0m         \"\"\"\n\u001b[1;32m--> 219\u001b[1;33m         \u001b[0mmatrix_eq\u001b[0m\u001b[1;33m,\u001b[0m \u001b[0msyms\u001b[0m \u001b[1;33m=\u001b[0m \u001b[0mself\u001b[0m\u001b[1;33m.\u001b[0m\u001b[0mgenerateSystemSteadyState\u001b[0m\u001b[1;33m(\u001b[0m\u001b[0mreplacements\u001b[0m\u001b[1;33m,\u001b[0m \u001b[1;32mTrue\u001b[0m\u001b[1;33m)\u001b[0m\u001b[1;33m\u001b[0m\u001b[1;33m\u001b[0m\u001b[0m\n\u001b[0m\u001b[0;32m    220\u001b[0m         \u001b[1;31m# if t_dependent:\u001b[0m\u001b[1;33m\u001b[0m\u001b[1;33m\u001b[0m\u001b[1;33m\u001b[0m\u001b[0m\n\u001b[0;32m    221\u001b[0m         \u001b[1;31m#     raise AssertionError('No steady state solution for time dependent variables')\u001b[0m\u001b[1;33m\u001b[0m\u001b[1;33m\u001b[0m\u001b[1;33m\u001b[0m\u001b[0m\n",
      "\u001b[1;32mG:\\.shortcut-targets-by-id\\1-2vRammo3jyrlfxvIbMxCyEp3Doyq8Bn\\CryoMolEx\\Simulations\\CaH OBE solver\\github_Julia_version\\optical_bloch_test\\bloch_equations.py\u001b[0m in \u001b[0;36mgenerateSystemSteadyState\u001b[1;34m(self, replacements, full_output)\u001b[0m\n\u001b[0;32m    142\u001b[0m         \u001b[1;31m# taking the RHS of the steady state equations in order to add the\u001b[0m\u001b[1;33m\u001b[0m\u001b[1;33m\u001b[0m\u001b[1;33m\u001b[0m\u001b[0m\n\u001b[0;32m    143\u001b[0m         \u001b[1;31m# constraint Tr(ρ) = 1, needed to solve the system of equations\u001b[0m\u001b[1;33m\u001b[0m\u001b[1;33m\u001b[0m\u001b[1;33m\u001b[0m\u001b[0m\n\u001b[1;32m--> 144\u001b[1;33m         \u001b[0meqns_rhs\u001b[0m \u001b[1;33m=\u001b[0m \u001b[0mself\u001b[0m\u001b[1;33m.\u001b[0m\u001b[0mequations_steady_state\u001b[0m\u001b[1;33m.\u001b[0m\u001b[0mrhs\u001b[0m\u001b[1;33m.\u001b[0m\u001b[0msubs\u001b[0m\u001b[1;33m(\u001b[0m\u001b[0mreplacements\u001b[0m\u001b[1;33m)\u001b[0m\u001b[1;33m\u001b[0m\u001b[1;33m\u001b[0m\u001b[0m\n\u001b[0m\u001b[0;32m    145\u001b[0m         \u001b[0meqns_rhs\u001b[0m \u001b[1;33m=\u001b[0m \u001b[0mflatten\u001b[0m\u001b[1;33m(\u001b[0m\u001b[0meqns_rhs\u001b[0m\u001b[1;33m.\u001b[0m\u001b[0mtolist\u001b[0m\u001b[1;33m(\u001b[0m\u001b[1;33m)\u001b[0m\u001b[1;33m)\u001b[0m\u001b[1;33m\u001b[0m\u001b[1;33m\u001b[0m\u001b[0m\n\u001b[0;32m    146\u001b[0m         \u001b[0meqns_rhs\u001b[0m\u001b[1;33m[\u001b[0m\u001b[1;36m0\u001b[0m\u001b[1;33m]\u001b[0m \u001b[1;33m+=\u001b[0m \u001b[0mself\u001b[0m\u001b[1;33m.\u001b[0m\u001b[0mdensity_matrix_steady_state\u001b[0m\u001b[1;33m.\u001b[0m\u001b[0mtrace\u001b[0m\u001b[1;33m(\u001b[0m\u001b[1;33m)\u001b[0m\u001b[1;33m-\u001b[0m\u001b[1;36m1\u001b[0m\u001b[1;33m\u001b[0m\u001b[1;33m\u001b[0m\u001b[0m\n",
      "\u001b[1;31mAttributeError\u001b[0m: 'BlochEquations' object has no attribute 'equations_steady_state'"
     ]
    }
   ],
   "source": [
    "Ω_value = 20\n",
    "replacements = [(g, 1),\n",
    "                (Δ, 0),\n",
    "                (Ω, Ω_value),\n",
    "                (Γ, 1)]\n",
    "varlist1 = np.linspace(0.01,np.pi,100)\n",
    "varlist2 = 10**np.linspace(-3,1,100)\n",
    "# np.linspace(0.001,5,100)\n",
    "sol = bloch.solveSteadyStateNumeric(replacements = replacements, parameters_scan = [θ, B], scan_ranges = [varlist1, varlist2])"
   ]
  },
  {
   "cell_type": "code",
   "execution_count": 43,
   "id": "fc615b3a",
   "metadata": {},
   "outputs": [
    {
     "data": {
      "image/png": "[encoded data removed]",
      "text/plain": [
       "<Figure size 504x360 with 2 Axes>"
      ]
     },
     "metadata": {
      "needs_background": "light"
     },
     "output_type": "display_data"
    }
   ],
   "source": [
    "soltemp = sol.reshape([len(varlist1), len(varlist2), ntotal, ntotal])\n",
    "ρii = np.array([np.real(soltemp[:,:,i,i]) for i in range(ntotal)])\n",
    "params = np.array(np.meshgrid(varlist1, varlist2)).T.reshape(-1,2)\n",
    "\n",
    "fig, ax = plt.subplots(figsize = (7,5))\n",
    "\n",
    "tcf = ax.tricontourf(params[:,0]*180/np.pi, params[:,1], \n",
    "                     np.sum(np.array([ρii[_,:,:].reshape(len(varlist1)*len(varlist2)) \n",
    "                                      for _ in range(nground, ntotal)]), axis = 0) ,levels=10)\n",
    "\n",
    "cbar = fig.colorbar(tcf)\n",
    "\n",
    "ax.set_xlabel('θ')\n",
    "ax.set_ylabel('B')\n",
    "cbar.ax.set_ylabel('excited state population')\n",
    "ax.set_yscale('log')\n",
    "ax.set_title(f'3+3 sys B & θ sweep  Ω = {Ω_value}')\n",
    "set_fontsize(ax, 14)\n",
    "set_fontsize(cbar.ax, 14)"
   ]
  },
  {
   "cell_type": "code",
   "execution_count": null,
   "id": "b711d905",
   "metadata": {},
   "outputs": [],
   "source": []
  },
  {
   "cell_type": "code",
   "execution_count": 44,
   "id": "6dc4d07b",
   "metadata": {},
   "outputs": [],
   "source": [
    "import os\n",
    "import numpy as np\n",
    "import matplotlib.pyplot as plt\n",
    "import imageio"
   ]
  },
  {
   "cell_type": "code",
   "execution_count": 45,
   "id": "9a2d3214",
   "metadata": {},
   "outputs": [
    {
     "name": "stderr",
     "output_type": "stream",
     "text": [
      "100%|████████████████████████████████████████████████████████████████████████████| 2500/2500 [00:00<00:00, 3894.52it/s]\n",
      "100%|████████████████████████████████████████████████████████████████████████████| 2500/2500 [00:00<00:00, 3823.49it/s]\n",
      "100%|████████████████████████████████████████████████████████████████████████████| 2500/2500 [00:00<00:00, 3863.82it/s]\n",
      "100%|████████████████████████████████████████████████████████████████████████████| 2500/2500 [00:00<00:00, 3768.12it/s]\n",
      "100%|████████████████████████████████████████████████████████████████████████████| 2500/2500 [00:00<00:00, 3763.80it/s]\n",
      "100%|████████████████████████████████████████████████████████████████████████████| 2500/2500 [00:00<00:00, 3926.51it/s]\n",
      "100%|████████████████████████████████████████████████████████████████████████████| 2500/2500 [00:00<00:00, 3800.22it/s]\n",
      "100%|████████████████████████████████████████████████████████████████████████████| 2500/2500 [00:00<00:00, 3733.17it/s]\n",
      "100%|████████████████████████████████████████████████████████████████████████████| 2500/2500 [00:00<00:00, 3745.33it/s]\n",
      "100%|████████████████████████████████████████████████████████████████████████████| 2500/2500 [00:00<00:00, 3742.88it/s]\n",
      "100%|████████████████████████████████████████████████████████████████████████████| 2500/2500 [00:00<00:00, 3750.70it/s]\n",
      "100%|████████████████████████████████████████████████████████████████████████████| 2500/2500 [00:00<00:00, 3859.35it/s]\n",
      "100%|████████████████████████████████████████████████████████████████████████████| 2500/2500 [00:00<00:00, 3812.63it/s]\n",
      "100%|████████████████████████████████████████████████████████████████████████████| 2500/2500 [00:00<00:00, 3860.26it/s]\n",
      "100%|████████████████████████████████████████████████████████████████████████████| 2500/2500 [00:00<00:00, 3793.97it/s]\n",
      "100%|████████████████████████████████████████████████████████████████████████████| 2500/2500 [00:00<00:00, 3902.03it/s]\n",
      "100%|████████████████████████████████████████████████████████████████████████████| 2500/2500 [00:00<00:00, 3869.37it/s]\n",
      "100%|████████████████████████████████████████████████████████████████████████████| 2500/2500 [00:00<00:00, 3596.25it/s]\n",
      "100%|████████████████████████████████████████████████████████████████████████████| 2500/2500 [00:00<00:00, 3800.43it/s]\n",
      "100%|████████████████████████████████████████████████████████████████████████████| 2500/2500 [00:00<00:00, 3743.87it/s]\n",
      "100%|████████████████████████████████████████████████████████████████████████████| 2500/2500 [00:00<00:00, 3699.13it/s]\n",
      "100%|████████████████████████████████████████████████████████████████████████████| 2500/2500 [00:00<00:00, 3910.09it/s]\n",
      "100%|████████████████████████████████████████████████████████████████████████████| 2500/2500 [00:00<00:00, 3964.94it/s]\n",
      "100%|████████████████████████████████████████████████████████████████████████████| 2500/2500 [00:00<00:00, 3884.25it/s]\n",
      "100%|████████████████████████████████████████████████████████████████████████████| 2500/2500 [00:00<00:00, 3764.19it/s]\n",
      "100%|████████████████████████████████████████████████████████████████████████████| 2500/2500 [00:00<00:00, 3904.30it/s]\n",
      "100%|████████████████████████████████████████████████████████████████████████████| 2500/2500 [00:00<00:00, 3893.30it/s]\n",
      "100%|████████████████████████████████████████████████████████████████████████████| 2500/2500 [00:00<00:00, 3821.06it/s]\n",
      "100%|████████████████████████████████████████████████████████████████████████████| 2500/2500 [00:00<00:00, 3891.96it/s]\n",
      "100%|████████████████████████████████████████████████████████████████████████████| 2500/2500 [00:00<00:00, 3869.23it/s]\n",
      "100%|████████████████████████████████████████████████████████████████████████████| 2500/2500 [00:00<00:00, 3841.15it/s]\n",
      "100%|████████████████████████████████████████████████████████████████████████████| 2500/2500 [00:00<00:00, 3865.79it/s]\n",
      "100%|████████████████████████████████████████████████████████████████████████████| 2500/2500 [00:00<00:00, 3904.19it/s]\n",
      "100%|████████████████████████████████████████████████████████████████████████████| 2500/2500 [00:00<00:00, 3861.17it/s]\n",
      "100%|████████████████████████████████████████████████████████████████████████████| 2500/2500 [00:00<00:00, 3866.99it/s]\n",
      "100%|████████████████████████████████████████████████████████████████████████████| 2500/2500 [00:00<00:00, 3845.59it/s]\n",
      "100%|████████████████████████████████████████████████████████████████████████████| 2500/2500 [00:00<00:00, 3872.21it/s]\n",
      "100%|████████████████████████████████████████████████████████████████████████████| 2500/2500 [00:00<00:00, 3824.09it/s]\n",
      "100%|████████████████████████████████████████████████████████████████████████████| 2500/2500 [00:00<00:00, 3848.62it/s]\n",
      "100%|████████████████████████████████████████████████████████████████████████████| 2500/2500 [00:00<00:00, 3884.22it/s]\n"
     ]
    }
   ],
   "source": [
    "filenames = []\n",
    "y = np.concatenate((np.linspace(0.1, 2, 20), np.linspace(2.2, 8, 20)), axis=None)\n",
    "for i in y:\n",
    "    Ω_value = i\n",
    "    replacements = [(g, 1),\n",
    "                    (Δ, 0),\n",
    "                    (Ω, Ω_value),\n",
    "                    (Γ, 1)]\n",
    "    \n",
    "    varlist1 = np.linspace(0.01,np.pi,50)\n",
    "    varlist2 = 10**np.linspace(-3,1,50)\n",
    "    sol = bloch.solveSteadyStateNumeric(replacements = replacements, parameters_scan = [θ, B], scan_ranges = [varlist1, varlist2])\n",
    "    soltemp = sol.reshape([len(varlist1), len(varlist2), ntotal, ntotal])\n",
    "    ρii = np.array([np.real(soltemp[:,:,i,i]) for i in range(ntotal)])\n",
    "    \n",
    "    fig, ax = plt.subplots(figsize = (7,5))\n",
    "\n",
    "    params = np.array(np.meshgrid(varlist1, varlist2)).T.reshape(-1,2)\n",
    "    tcf = ax.tricontourf(params[:,0]*180/np.pi, params[:,1], \n",
    "                         np.sum(np.array([ρii[_,:,:].reshape(len(varlist1)*len(varlist2)) \n",
    "                                          for _ in range(nground, ntotal)]), axis = 0) ,levels=10)\n",
    "\n",
    "    cbar = fig.colorbar(tcf)\n",
    "\n",
    "    ax.set_xlabel('θ')\n",
    "    ax.set_ylabel('B')\n",
    "    cbar.ax.set_ylabel('excited state population')\n",
    "    ax.set_yscale('log')\n",
    "    ax.set_title(f'3+3 sys B & θ sweep  Ω = {Ω_value}')\n",
    "    set_fontsize(ax, 14)\n",
    "    set_fontsize(cbar.ax, 14)\n",
    "    \n",
    "    # create file name and append it to a list\n",
    "    filename = f'{i}.png'\n",
    "    for i in range(10):\n",
    "        filenames.append(filename)\n",
    "    \n",
    "    # save frame\n",
    "    plt.savefig(filename)\n",
    "    plt.close()\n",
    "    \n",
    "# build gif\n",
    "with imageio.get_writer('3+3 sys.gif', mode='I') as writer:\n",
    "    for filename in filenames:\n",
    "        image = imageio.imread(filename)\n",
    "        writer.append_data(image)\n",
    "        \n",
    "# Remove files\n",
    "for filename in set(filenames):\n",
    "    os.remove(filename)"
   ]
  },
  {
   "cell_type": "code",
   "execution_count": null,
   "id": "2ee01db0",
   "metadata": {},
   "outputs": [],
   "source": []
  },
  {
   "cell_type": "code",
   "execution_count": null,
   "id": "acbe2abb",
   "metadata": {},
   "outputs": [],
   "source": []
  },
  {
   "cell_type": "code",
   "execution_count": 40,
   "id": "50aa8e9d",
   "metadata": {},
   "outputs": [
    {
     "name": "stderr",
     "output_type": "stream",
     "text": [
      "100%|██████████████████████████████████████████████████████████████████████████████| 100/100 [00:00<00:00, 3485.78it/s]\n"
     ]
    }
   ],
   "source": [
    "B_value = 0.3\n",
    "Ω_value = 3\n",
    "replacements = [(g, 1),\n",
    "                (B, B_value),\n",
    "                (Δ, 0),\n",
    "                (Ω, Ω_value),\n",
    "                (Γ, 1)]\n",
    "varlist = np.linspace(0.01,np.pi,100)\n",
    "sol = bloch.solveSteadyStateNumeric(replacements = replacements, parameters_scan = θ, scan_ranges = [varlist])\n",
    "arr = np.array([[np.sqrt(2)*np.cos(θ), np.sin(θ), np.sin(θ), np.sin(θ), np.sin(θ), np.sqrt(2)*np.cos(θ)] for θ in varlist])"
   ]
  },
  {
   "cell_type": "code",
   "execution_count": 41,
   "id": "ceafe7a1",
   "metadata": {},
   "outputs": [
    {
     "data": {
      "text/plain": [
       "Text(0.5, 0.98, '5+3 sys  $B$ = 0.3  Ω = 3  X = angle')"
      ]
     },
     "execution_count": 41,
     "metadata": {},
     "output_type": "execute_result"
    },
    {
     "data": {
      "image/png": "[encoded data removed]",
      "text/plain": [
       "<Figure size 576x576 with 4 Axes>"
      ]
     },
     "metadata": {
      "needs_background": "light"
     },
     "output_type": "display_data"
    }
   ],
   "source": [
    "soltemp = sol.reshape([-1,ntotal,ntotal])\n",
    "ρii = np.array([np.real(soltemp[:,i,i]) for i in range(ntotal)])\n",
    "std = np.array([np.sum(np.abs(arr[i])) for i in range(len(arr))])\n",
    "\n",
    "fig, ax = plt.subplots(2,2, figsize = (8,8))\n",
    "for _ in range(0,nground):\n",
    "    ax[0,0].plot(varlist/np.pi*180, ρii[_,:], label = \"Mf = \"+str(_-1))\n",
    "for _ in range(nground,ntotal):\n",
    "    ax[0,1].plot(varlist/np.pi*180, ρii[_,:], label = \"Mf = \"+str(_-4))\n",
    "ax[1,0].plot(varlist/np.pi*180, ρii[3,:]+ρii[4,:]+ρii[5,:])\n",
    "\n",
    "for i in range(6):\n",
    "    ax[1,1].plot(varlist/np.pi*180, np.abs(arr[:,i]), label = str(i))\n",
    "ax[0,0].legend(loc = 6)\n",
    "ax[0,1].legend(loc = 6)\n",
    "# ax[1,0].legend()\n",
    "ax[1,1].legend(loc = 6)\n",
    "ax[0,0].set_xlim(0,180)\n",
    "ax[0,1].set_xlim(0,180)\n",
    "ax[1,0].set_xlim(0,180)\n",
    "ax[1,1].set_xlim(0,180)\n",
    "ax[0,0].set_title('ground state pop')\n",
    "ax[0,1].set_title('excited state pop')\n",
    "ax[1,0].set_title('excited total pop')\n",
    "ax[1,1].set_title('rabi matrix strength')\n",
    "fig.suptitle(f\"5+3 sys  $B$ = {B_value}  Ω = {Ω_value}  X = angle\", fontsize=14)\n",
    "# fig.supxlabel('1')"
   ]
  },
  {
   "cell_type": "code",
   "execution_count": null,
   "id": "9808ce19",
   "metadata": {},
   "outputs": [],
   "source": [
    "θ"
   ]
  }
 ],
 "metadata": {
  "kernelspec": {
   "display_name": "Python 3 (ipykernel)",
   "language": "python",
   "name": "python3"
  },
  "language_info": {
   "codemirror_mode": {
    "name": "ipython",
    "version": 3
   },
   "file_extension": ".py",
   "mimetype": "text/x-python",
   "name": "python",
   "nbconvert_exporter": "python",
   "pygments_lexer": "ipython3",
   "version": "3.7.4"
  }
 },
 "nbformat": 4,
 "nbformat_minor": 5
}
