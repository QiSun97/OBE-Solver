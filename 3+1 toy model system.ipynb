{
 "cells": [
  {
   "cell_type": "code",
   "execution_count": 1,
   "id": "84f840d2",
   "metadata": {},
   "outputs": [],
   "source": [
    "import os\n",
    "import numpy as np\n",
    "import matplotlib.pyplot as plt\n",
    "import imageio\n",
    "import pickle\n",
    "import time\n",
    "import pprint\n",
    "from tqdm import tqdm\n",
    "import multiprocessing\n",
    "from sympy import Symbol, sin, cos, tan, nsimplify\n",
    "import matplotlib.pyplot as plt\n",
    "from utils.plot_utils import set_fontsize\n",
    "from optical_bloch_test.utils.general import flatten\n",
    "from optical_bloch_test import Hamiltonian, Dissipator, BlochEquations\n",
    "from multi_helper_funcs import multi_solve_ode, multi_solve_ode_integrate_excited\n",
    "\n",
    "\n",
    "from julia import Main\n",
    "from sympy import MutableDenseMatrix, conjugate, Function, Symbol"
   ]
  },
  {
   "cell_type": "markdown",
   "id": "3db95db9",
   "metadata": {},
   "source": [
    "Define constants"
   ]
  },
  {
   "cell_type": "code",
   "execution_count": 2,
   "id": "d5bb7e5e",
   "metadata": {},
   "outputs": [],
   "source": [
    "hbar=1.054*1E-34; #[Js]\n",
    "k_b=1.381*1E-23; #[J/K]\n",
    "c=299792000; #[m/s]\n",
    "eps_0=8.854*1E-12; #[F/m]\n",
    "a0=5.29*1E-11; #[m]\n",
    "q_e=1.602*1E-19; #[C]\n",
    "Bohr_mag=1.39962449/1000*2*np.pi; #[GHz/G]\n",
    "\n",
    "nground = 3\n",
    "nexcite = 1\n",
    "ntotal = 4"
   ]
  },
  {
   "cell_type": "markdown",
   "id": "aca97342",
   "metadata": {},
   "source": [
    "Import Rabi Matrix Elements that are calculated by the MatLab code. Other simple toy models are also put into the folder, please refer to them as needed."
   ]
  },
  {
   "cell_type": "code",
   "execution_count": 3,
   "id": "654a2202",
   "metadata": {},
   "outputs": [],
   "source": [
    "rabi_matrix = np.zeros([ntotal,ntotal,3])\n",
    "rabi_matrix[:,:,0] = np.genfromtxt('rabimatrix31toy1.csv',delimiter=',')\n",
    "rabi_matrix[:,:,1] = np.genfromtxt('rabimatrix31toy2.csv',delimiter=',')\n",
    "rabi_matrix[:,:,2] = np.genfromtxt('rabimatrix31toy3.csv',delimiter=',')"
   ]
  },
  {
   "cell_type": "markdown",
   "id": "fd2ef238",
   "metadata": {},
   "source": [
    "Define symbols for the Hamiltonian"
   ]
  },
  {
   "cell_type": "code",
   "execution_count": 4,
   "id": "cda29b7d",
   "metadata": {},
   "outputs": [],
   "source": [
    "E0 = Symbol(u'E0', real = True)\n",
    "Ee = Symbol(u'Ee', real = True)\n",
    "\n",
    "ω = Symbol(u'ω', real = True)\n",
    "Ω = Symbol(u'Ω', real = True)\n",
    "Δ = Symbol(u'Δ', real = True)\n",
    "g = Symbol(u'g', real = True)\n",
    "\n",
    "θ = Symbol(u'θ', real = True)\n",
    "B = Symbol(u'B', real = True)"
   ]
  },
  {
   "cell_type": "markdown",
   "id": "2f64c0f0",
   "metadata": {},
   "source": [
    "Initialize Hamiltonian"
   ]
  },
  {
   "cell_type": "code",
   "execution_count": 5,
   "id": "e490f106",
   "metadata": {},
   "outputs": [],
   "source": [
    "ham = Hamiltonian(ntotal)\n",
    "ham.addEnergies([E0-g*B,E0,E0+g*B,Ee])"
   ]
  },
  {
   "cell_type": "markdown",
   "id": "7eae1536",
   "metadata": {},
   "source": [
    "Add coupling between states"
   ]
  },
  {
   "cell_type": "code",
   "execution_count": 6,
   "id": "2314304f",
   "metadata": {},
   "outputs": [],
   "source": [
    "for i in range(nground):\n",
    "    for j in range(nground, ntotal):\n",
    "        if rabi_matrix[i, j, 0] != 0:\n",
    "            prefactor = (-1)/np.sqrt(2)*sin(θ)\n",
    "            ham.addCoupling(i, j, prefactor*Ω*rabi_matrix[i,j,0], ω)\n",
    "        if rabi_matrix[i, j, 1] != 0:\n",
    "            prefactor = (1)*cos(θ)\n",
    "            ham.addCoupling(i, j, prefactor*Ω*rabi_matrix[i,j,1], ω)\n",
    "        if rabi_matrix[i, j, 2] != 0:\n",
    "            prefactor = (1)/np.sqrt(2)*sin(θ)\n",
    "            ham.addCoupling(i, j, prefactor*Ω*rabi_matrix[i,j,2], ω)"
   ]
  },
  {
   "cell_type": "markdown",
   "id": "9d6d7c18",
   "metadata": {},
   "source": [
    "Perform unitary transformation to remove the time dependence on the off diagonal term, and goes into the dress state"
   ]
  },
  {
   "cell_type": "code",
   "execution_count": 7,
   "id": "712cf981",
   "metadata": {},
   "outputs": [],
   "source": [
    "ham.eqnTransform()\n",
    "ham.defineZero(Ee)\n",
    "ham.defineEnergyDetuning(E0, Ee, Δ, ω)"
   ]
  },
  {
   "cell_type": "code",
   "execution_count": 8,
   "id": "2838422d",
   "metadata": {},
   "outputs": [
    {
     "data": {
      "text/latex": [
       "$\\displaystyle \\left[\\begin{matrix}- B g + E_{0} & 0 & 0 & - 0.117851130197758 Ω e^{1.0 i t ω} \\sin{\\left(θ \\right)}\\\\0 & E_{0} & 0 & 0.166666666666666 Ω e^{1.0 i t ω} \\cos{\\left(θ \\right)}\\\\0 & 0 & B g + E_{0} & 0.117851130197758 Ω e^{1.0 i t ω} \\sin{\\left(θ \\right)}\\\\- 0.117851130197758 Ω e^{- 1.0 i t ω} \\sin{\\left(θ \\right)} & 0.166666666666666 Ω e^{- 1.0 i t ω} \\cos{\\left(θ \\right)} & 0.117851130197758 Ω e^{- 1.0 i t ω} \\sin{\\left(θ \\right)} & Ee\\end{matrix}\\right]$"
      ],
      "text/plain": [
       "Matrix([\n",
       "[                                  -B*g + E0,                                          0,                                          0, -0.117851130197758*Ω*exp(1.0*I*t*ω)*sin(θ)],\n",
       "[                                          0,                                         E0,                                          0,  0.166666666666666*Ω*exp(1.0*I*t*ω)*cos(θ)],\n",
       "[                                          0,                                          0,                                   B*g + E0,  0.117851130197758*Ω*exp(1.0*I*t*ω)*sin(θ)],\n",
       "[-0.117851130197758*Ω*exp(-1.0*I*t*ω)*sin(θ), 0.166666666666666*Ω*exp(-1.0*I*t*ω)*cos(θ), 0.117851130197758*Ω*exp(-1.0*I*t*ω)*sin(θ),                                         Ee]])"
      ]
     },
     "execution_count": 8,
     "metadata": {},
     "output_type": "execute_result"
    }
   ],
   "source": [
    "ham.hamiltonian"
   ]
  },
  {
   "cell_type": "code",
   "execution_count": 9,
   "id": "d6674d29",
   "metadata": {},
   "outputs": [
    {
     "data": {
      "text/latex": [
       "$\\displaystyle \\left[\\begin{matrix}- B g - 1.0 Δ & 0 & 0 & - 0.117851130197758 Ω \\sin{\\left(θ \\right)}\\\\0 & - 1.0 Δ & 0 & 0.166666666666666 Ω \\cos{\\left(θ \\right)}\\\\0 & 0 & B g - 1.0 Δ & 0.117851130197758 Ω \\sin{\\left(θ \\right)}\\\\- 0.117851130197758 Ω \\sin{\\left(θ \\right)} & 0.166666666666666 Ω \\cos{\\left(θ \\right)} & 0.117851130197758 Ω \\sin{\\left(θ \\right)} & 0\\end{matrix}\\right]$"
      ],
      "text/plain": [
       "Matrix([\n",
       "[               -B*g - 1.0*Δ,                          0,                          0, -0.117851130197758*Ω*sin(θ)],\n",
       "[                          0,                     -1.0*Δ,                          0,  0.166666666666666*Ω*cos(θ)],\n",
       "[                          0,                          0,                B*g - 1.0*Δ,  0.117851130197758*Ω*sin(θ)],\n",
       "[-0.117851130197758*Ω*sin(θ), 0.166666666666666*Ω*cos(θ), 0.117851130197758*Ω*sin(θ),                           0]])"
      ]
     },
     "execution_count": 9,
     "metadata": {},
     "output_type": "execute_result"
    }
   ],
   "source": [
    "ham.transformed"
   ]
  },
  {
   "cell_type": "markdown",
   "id": "4b256fb3",
   "metadata": {},
   "source": [
    "Calculate transition strength with rabi matrix elements define before"
   ]
  },
  {
   "cell_type": "code",
   "execution_count": 10,
   "id": "97e3e309",
   "metadata": {},
   "outputs": [],
   "source": [
    "transition_strengths=np.zeros([ntotal,ntotal]);\n",
    "for i in range(ntotal):\n",
    "    for f in range(ntotal):\n",
    "        for p in range(3):\n",
    "            transition_strengths[i,f]=transition_strengths[i,f]+rabi_matrix[i,f,p]**2"
   ]
  },
  {
   "cell_type": "markdown",
   "id": "69edf7db",
   "metadata": {},
   "source": [
    "Use transition strength to calculate the Branching Ratios from excited states to ground states"
   ]
  },
  {
   "cell_type": "code",
   "execution_count": 11,
   "id": "9a527476",
   "metadata": {},
   "outputs": [],
   "source": [
    "BR = np.zeros([ntotal, ntotal])\n",
    "for i in range(ntotal):\n",
    "    sums=0\n",
    "    for f in range(ntotal):\n",
    "        sums=sums+transition_strengths[i,f]\n",
    "        \n",
    "    for f in range(ntotal):\n",
    "        BR[i,f]=transition_strengths[i,f]/sums\n",
    "        \n",
    "for i in range(nground):\n",
    "    BR[i,:]=0"
   ]
  },
  {
   "cell_type": "code",
   "execution_count": 12,
   "id": "50132493",
   "metadata": {},
   "outputs": [
    {
     "data": {
      "text/plain": [
       "array([[0.33333333, 0.33333333, 0.33333333, 0.        ]])"
      ]
     },
     "execution_count": 12,
     "metadata": {},
     "output_type": "execute_result"
    }
   ],
   "source": [
    "BR[nground:,:]"
   ]
  },
  {
   "cell_type": "markdown",
   "id": "c5f2f7d3",
   "metadata": {},
   "source": [
    "Use the BR to build dissipator in the Master equation"
   ]
  },
  {
   "cell_type": "code",
   "execution_count": 13,
   "id": "57cb8dfb",
   "metadata": {},
   "outputs": [
    {
     "name": "stderr",
     "output_type": "stream",
     "text": [
      "100%|████████████████████████████████████████████████████████████████████████████████████| 1/1 [00:00<00:00,  4.71it/s]\n"
     ]
    }
   ],
   "source": [
    "Γ = Symbol(u'Γ', real = True)\n",
    "dis = Dissipator(ntotal)\n",
    "\n",
    "for exct in tqdm(range(nground, ntotal)):\n",
    "    for grnd in range(nground):\n",
    "        if BR[exct, grnd] != 0:\n",
    "            dis.addDecay(exct, grnd, Γ * BR[exct, grnd])"
   ]
  },
  {
   "cell_type": "code",
   "execution_count": 14,
   "id": "5ecff1c8",
   "metadata": {},
   "outputs": [
    {
     "data": {
      "text/latex": [
       "$\\displaystyle \\left[\\begin{matrix}0.333333333333333 Γ \\operatorname{ρ₃₃}{\\left(t \\right)} & 0 & 0 & - 0.5 Γ \\operatorname{ρ₀₃}{\\left(t \\right)}\\\\0 & 0.333333333333333 Γ \\operatorname{ρ₃₃}{\\left(t \\right)} & 0 & - 0.5 Γ \\operatorname{ρ₁₃}{\\left(t \\right)}\\\\0 & 0 & 0.333333333333333 Γ \\operatorname{ρ₃₃}{\\left(t \\right)} & - 0.5 Γ \\operatorname{ρ₂₃}{\\left(t \\right)}\\\\- 0.5 Γ \\overline{\\operatorname{ρ₀₃}{\\left(t \\right)}} & - 0.5 Γ \\overline{\\operatorname{ρ₁₃}{\\left(t \\right)}} & - 0.5 Γ \\overline{\\operatorname{ρ₂₃}{\\left(t \\right)}} & - 1.0 Γ \\operatorname{ρ₃₃}{\\left(t \\right)}\\end{matrix}\\right]$"
      ],
      "text/plain": [
       "Matrix([\n",
       "[0.333333333333333*Γ*ρ₃₃(t),                          0,                          0, -0.5*Γ*ρ₀₃(t)],\n",
       "[                         0, 0.333333333333333*Γ*ρ₃₃(t),                          0, -0.5*Γ*ρ₁₃(t)],\n",
       "[                         0,                          0, 0.333333333333333*Γ*ρ₃₃(t), -0.5*Γ*ρ₂₃(t)],\n",
       "[  -0.5*Γ*conjugate(ρ₀₃(t)),   -0.5*Γ*conjugate(ρ₁₃(t)),   -0.5*Γ*conjugate(ρ₂₃(t)), -1.0*Γ*ρ₃₃(t)]])"
      ]
     },
     "execution_count": 14,
     "metadata": {},
     "output_type": "execute_result"
    }
   ],
   "source": [
    "dis.dissipator"
   ]
  },
  {
   "cell_type": "markdown",
   "id": "a51ebe74",
   "metadata": {},
   "source": [
    "Build the bloch equations"
   ]
  },
  {
   "cell_type": "code",
   "execution_count": 15,
   "id": "331f92a6",
   "metadata": {},
   "outputs": [
    {
     "name": "stdout",
     "output_type": "stream",
     "text": [
      "start generateEquations\n",
      "start generateSteadyStateDensityMatrix\n",
      "start generateEquationsSteadyState\n",
      "Wall time: 855 ms\n"
     ]
    }
   ],
   "source": [
    "%%time\n",
    "bloch = BlochEquations(ntotal, dis.density_matrix, ham.transformed, dis.dissipator)"
   ]
  },
  {
   "cell_type": "markdown",
   "id": "341eb1bc",
   "metadata": {},
   "source": [
    "You can use Python to solve the Bloch equation. The speed is limited when the system gets heavier but can be useful when the system is small.\n",
    "If you want to use Julia, you can skip this section and directly go to Julia module."
   ]
  },
  {
   "cell_type": "markdown",
   "id": "006160d6",
   "metadata": {},
   "source": [
    "Here you can define the numerical values and put them into the well-established Bloch equations, and numerically solve them."
   ]
  },
  {
   "cell_type": "code",
   "execution_count": 16,
   "id": "79981f27",
   "metadata": {},
   "outputs": [],
   "source": [
    "y0 = np.zeros([ntotal, ntotal], dtype = complex)\n",
    "y0[0,0] = 1/3\n",
    "y0[1,1] = 1/3\n",
    "y0[2,2] = 1/3\n",
    "y0 = y0.flatten()"
   ]
  },
  {
   "cell_type": "code",
   "execution_count": 18,
   "id": "3bf96c22",
   "metadata": {},
   "outputs": [],
   "source": [
    "Γ_val = 1\n",
    "replacements = [(Δ, 0),\n",
    "                (Ω, np.sqrt(3/2)*Γ_val),\n",
    "                (Δ, 0*Γ_val),\n",
    "                (θ, 60/180*np.pi),\n",
    "                (B, 0.1),\n",
    "                (g, 1),\n",
    "                (Γ, Γ_val)]"
   ]
  },
  {
   "cell_type": "code",
   "execution_count": 19,
   "id": "bb81a10d",
   "metadata": {},
   "outputs": [
    {
     "name": "stdout",
     "output_type": "stream",
     "text": [
      "Wall time: 1.1 s\n"
     ]
    }
   ],
   "source": [
    "%%time\n",
    "sol = bloch.solveNumeric(replacements, [0,300], y0, method = 'BDF')"
   ]
  },
  {
   "cell_type": "markdown",
   "id": "7ce8c8ec",
   "metadata": {},
   "source": [
    "It's been calculated! The results are plotted below."
   ]
  },
  {
   "cell_type": "code",
   "execution_count": 20,
   "id": "161f1b2d",
   "metadata": {},
   "outputs": [
    {
     "data": {
      "image/png": "[encoded data removed]",
      "text/plain": [
       "<Figure size 576x360 with 1 Axes>"
      ]
     },
     "metadata": {
      "needs_background": "light"
     },
     "output_type": "display_data"
    }
   ],
   "source": [
    "r = np.einsum(\"iij->ij\", sol.y.reshape(4,4,sol.t.size)).real\n",
    "\n",
    "fig, ax = plt.subplots(figsize = (8,5))\n",
    "ax.plot(sol.t, r[0], label = r'$\\rho_{00}$', lw = 2)\n",
    "ax.plot(sol.t, r[1], label = r'$\\rho_{11}$', lw = 2)\n",
    "ax.plot(sol.t, r[2], label = r'$\\rho_{22}$', lw = 2)\n",
    "ax.plot(sol.t, r[3], label = r'$\\rho_{33}$', lw = 2)\n",
    "\n",
    "ax.legend(fontsize = 13)\n",
    "ax.set_xlabel('time')\n",
    "ax.set_ylabel('population')\n",
    "\n",
    "set_fontsize(ax, 14)"
   ]
  },
  {
   "cell_type": "code",
   "execution_count": null,
   "id": "d8f238dd",
   "metadata": {},
   "outputs": [],
   "source": []
  },
  {
   "cell_type": "markdown",
   "id": "acbfff6a",
   "metadata": {},
   "source": [
    "Here is how you can use Julia to do way faster calculations. Again, Julia is faster only when you have more comlicated (like 8level or 16levels system)and large amount of parallel calculation, otherwise you might not feel the difference."
   ]
  },
  {
   "cell_type": "markdown",
   "id": "a018a9ef",
   "metadata": {},
   "source": [
    "If it's the first time you run Julia in your machine, you might need to download Julia and a bunch of packages to use. If you cannot use Julia, don't forget to install PyJulia."
   ]
  },
  {
   "cell_type": "code",
   "execution_count": 32,
   "id": "6c457dab",
   "metadata": {},
   "outputs": [],
   "source": [
    "from julia import Main"
   ]
  },
  {
   "cell_type": "code",
   "execution_count": 33,
   "id": "7298eff5",
   "metadata": {},
   "outputs": [
    {
     "data": {
      "text/plain": [
       "array([1, 2, 3], dtype=int64)"
      ]
     },
     "execution_count": 33,
     "metadata": {},
     "output_type": "execute_result"
    }
   ],
   "source": [
    "nprocs = 3 # number of processes to use for EnsembleDistributed \n",
    "Main.eval(f\"\"\"\n",
    "using BenchmarkTools\n",
    "using Distributed\n",
    "\"\"\")\n",
    "\n",
    "if Main.eval(\"nprocs()\") < nprocs:\n",
    "    Main.eval(f\"addprocs({nprocs}-nprocs())\")\n",
    "\n",
    "if Main.eval(\"nprocs()\") > nprocs:\n",
    "    addprocs({nprocs})\n",
    "    procs = Main.eval(\"procs()\")\n",
    "    procs = procs[nprocs:]\n",
    "    Main.eval(f\"rmprocs({procs})\")\n",
    "\n",
    "Main.eval(\"\"\"\n",
    "@everywhere begin\n",
    "    using ModelingToolkit\n",
    "    using LinearAlgebra\n",
    "    using Trapz\n",
    "    using DifferentialEquations\n",
    "    using ModelingToolkit\n",
    "end\n",
    "\"\"\")\n",
    "    \n",
    "Main.eval(\"procs()\")"
   ]
  },
  {
   "cell_type": "markdown",
   "id": "124bed5f",
   "metadata": {},
   "source": [
    "Above you set the number of processors you want to use. It's better to be smaller than the total logical processors number of your device.\n",
    "Below is to introduce the hamiltonian and dissipators into Julia, and build the equations in Julia."
   ]
  },
  {
   "cell_type": "code",
   "execution_count": 34,
   "id": "3580aa1f",
   "metadata": {},
   "outputs": [],
   "source": [
    "from sympy import MutableDenseMatrix, conjugate, Function, Symbol\n",
    "\n",
    "t = Symbol('t', real = True)\n",
    "\n",
    "hamiltonian_symbols = ham.transformed.free_symbols\n",
    "dissipator_symbols = dis.dissipator.free_symbols\n",
    "dissipator_symbols = set([d for d in dissipator_symbols if str(d)[0] not in ['ρ', 't']])\n",
    "\n",
    "for s in list(hamiltonian_symbols) + list(dissipator_symbols):\n",
    "    Main.eval(f\"\"\"\n",
    "                @everywhere @parameters {str(s)}\n",
    "                tmp = 0\n",
    "            \"\"\");\n",
    "\n",
    "\n",
    "lx, ly = ham.transformed.shape\n",
    "Main.eval(f\"\"\"\n",
    "            @everywhere begin\n",
    "            H = zeros(Num, {lx}, {ly})\n",
    "            L = zeros(Num, {lx}, {ly})\n",
    "            @variables t ρ[1:{lx},1:{ly}](t)\n",
    "            @parameters icomplex\n",
    "            D = Differential(t)\n",
    "            tmp = 0\n",
    "            end\n",
    "            \"\"\");\n",
    "\n",
    "# the code below is to transform the symbolic version of Sympy into a form usable with Julia\n",
    "diss = MutableDenseMatrix(dis.dissipator.copy())\n",
    "\n",
    "for i in range(lx):\n",
    "    for j in range(i,ly):\n",
    "        tmp = Function(u'ρ{0}{1}'.format(chr(0x2080+i), \n",
    "                                         chr(0x2080+j)))\n",
    "        tmp1 = Function(u'ρ[{0},{1}]'.format(j+1, i+1))\n",
    "        diss = diss.subs(conjugate(tmp(t)), tmp1(t))\n",
    "            \n",
    "for i in range(lx):\n",
    "    for j in range(i,ly):\n",
    "        tmp = Function(u'ρ{0}{1}'.format(chr(0x2080+i), \n",
    "                                         chr(0x2080+j)))\n",
    "        tmp1 = Function(u'ρ[{0},{1}]'.format(i+1, j+1))\n",
    "        diss = diss.subs(tmp(t), tmp1(t))\n",
    "\n",
    "\n",
    "# Creating the Hamiltonian matrix and Dissipator matrix in Julia\n",
    "for idx in range(1,lx+1):\n",
    "    for idy in range(1,ly+1):\n",
    "        hval = str(ham.transformed[idx-1,idy-1])\n",
    "        dval = str(diss[idx-1, idy-1])\n",
    "        dval = dval.replace('(t)', '')\n",
    "        Main.eval(f\"\"\"\n",
    "                @everywhere begin\n",
    "                H[{idx},{idy}] = {hval}\n",
    "                L[{idx},{idy}] = {dval}\n",
    "                tmp = 0\n",
    "                end\n",
    "                \"\"\");\n",
    "        \n",
    "# ham_pars = ham.transformed.free_symbols"
   ]
  },
  {
   "cell_type": "code",
   "execution_count": 36,
   "id": "13e94567",
   "metadata": {},
   "outputs": [],
   "source": [
    "# Creating the system of equations\n",
    "ham_string = ','.join([str(h) for h in hamiltonian_symbols])\n",
    "diss_string = ','.join([str(d) for d in dissipator_symbols])\n",
    "\n",
    "Main.eval(f\"\"\"\n",
    "@everywhere begin\n",
    "    eq = -icomplex*Symbolics.scalarize(H*ρ-ρ*H) + L\n",
    "    eqns = [D(ρ[idx,idy]) ~ eq[idx,idy] for idx in 1:{lx} for idy in 1:{ly}];\n",
    "    @named bloch = ODESystem(eqns)\n",
    "    tmp = 0\n",
    "end\n",
    "\"\"\");"
   ]
  },
  {
   "cell_type": "code",
   "execution_count": 37,
   "id": "0757e164",
   "metadata": {},
   "outputs": [],
   "source": [
    "# initial populations\n",
    "y0 = np.zeros([ham.levels, ham.levels], dtype = complex)\n",
    "for _ in range(3):\n",
    "    y0[_,_] = 1/3\n",
    "Main.ρ_ini = y0\n",
    "Main.eval(\"@everywhere ρ_ini = $ρ_ini\")"
   ]
  },
  {
   "cell_type": "code",
   "execution_count": 38,
   "id": "b2c826e7",
   "metadata": {},
   "outputs": [
    {
     "name": "stdout",
     "output_type": "stream",
     "text": [
      "{θ, Ω, Δ, B, g} {Γ}\n"
     ]
    }
   ],
   "source": [
    "print(hamiltonian_symbols,dissipator_symbols)"
   ]
  },
  {
   "cell_type": "code",
   "execution_count": 39,
   "id": "e9d13315",
   "metadata": {},
   "outputs": [],
   "source": [
    "# setting up the parameters of the model and initial conditions\n",
    "Main.eval(\"\"\"\n",
    "    @everywhere begin\n",
    "    p = [\n",
    "    Δ => 0,\n",
    "    Ω => sqrt(3/2)*3/5*1,\n",
    "    θ => 60/180*π,\n",
    "    B => 0.1,\n",
    "    g => 1,\n",
    "    Γ => 1,\n",
    "    icomplex => im\n",
    "    ]\n",
    "    u0 = [ρ[idx,idy] => ρ_ini[idx,idy] for idx in 1:size(ρ_ini)[1] for idy in 1:size(ρ_ini)[1]]\n",
    "    tmp =0;\n",
    "end\n",
    "\"\"\");"
   ]
  },
  {
   "cell_type": "code",
   "execution_count": 40,
   "id": "0ec89f45",
   "metadata": {},
   "outputs": [],
   "source": [
    "# creating the problem to solve\n",
    "Main.eval(\"\"\"\n",
    "@everywhere begin\n",
    "    tspan = (0.0, 1000.)\n",
    "    prob = ODEProblem(bloch, ρ_ini, tspan, p, jac = true)\n",
    "end\n",
    "\"\"\");"
   ]
  },
  {
   "cell_type": "code",
   "execution_count": 41,
   "id": "862fb909",
   "metadata": {},
   "outputs": [],
   "source": [
    "# solving the ODEProblem, keep in mind that the first run compiles called functions\n",
    "# the first run will be significantly slower (due to compilation), but any subsequent solves are fast\n",
    "Main.eval(\"@time sol = solve(prob, Tsit5(), abstol = 1e-10, reltol = 1e-10)\");"
   ]
  },
  {
   "cell_type": "code",
   "execution_count": 42,
   "id": "16cd5ceb",
   "metadata": {},
   "outputs": [],
   "source": [
    "ut = np.array(Main.eval(\"sol[:]\"))\n",
    "dim = int(np.sqrt(ut.shape[1]))\n",
    "pop_results = np.real(np.einsum('jji->ji',ut.reshape(-1,dim, dim).T))\n",
    "t_array = Main.eval(\"sol.t\") "
   ]
  },
  {
   "cell_type": "code",
   "execution_count": 43,
   "id": "ec25d966",
   "metadata": {},
   "outputs": [
    {
     "data": {
      "image/png": "[encoded data removed]",
      "text/plain": [
       "<Figure size 576x360 with 1 Axes>"
      ]
     },
     "metadata": {
      "needs_background": "light"
     },
     "output_type": "display_data"
    }
   ],
   "source": [
    "fig, ax = plt.subplots(figsize = (8,5))\n",
    "\n",
    "for idx, pop in enumerate(pop_results):\n",
    "    ax.plot(t_array, pop, lw = 2, label = f\"ρ$_{{{idx},{idx}}}$\")\n",
    "\n",
    "ax.set_xlabel('time')\n",
    "ax.set_ylabel('population')\n",
    "ax.legend(fontsize = 14)\n",
    "set_fontsize(ax, 14)"
   ]
  },
  {
   "cell_type": "code",
   "execution_count": null,
   "id": "b73cc8d8",
   "metadata": {},
   "outputs": [],
   "source": []
  },
  {
   "cell_type": "markdown",
   "id": "2f2a1435",
   "metadata": {},
   "source": [
    "If you want to calculate the force in the system, you could move to the file called \"3+1 toy system with force calculation\" where the hamiltonian is defined properly."
   ]
  },
  {
   "cell_type": "code",
   "execution_count": null,
   "id": "43baa08f",
   "metadata": {},
   "outputs": [],
   "source": []
  }
 ],
 "metadata": {
  "kernelspec": {
   "display_name": "Python 3 (ipykernel)",
   "language": "python",
   "name": "python3"
  },
  "language_info": {
   "codemirror_mode": {
    "name": "ipython",
    "version": 3
   },
   "file_extension": ".py",
   "mimetype": "text/x-python",
   "name": "python",
   "nbconvert_exporter": "python",
   "pygments_lexer": "ipython3",
   "version": "3.7.4"
  }
 },
 "nbformat": 4,
 "nbformat_minor": 5
}
